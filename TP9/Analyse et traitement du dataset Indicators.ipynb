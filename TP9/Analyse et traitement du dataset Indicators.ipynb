{
 "cells": [
  {
   "cell_type": "code",
   "execution_count": null,
   "metadata": {},
   "outputs": [],
   "source": [
    "#Chargez dans un dataframe pandas le fichiers Indicators.csv\n",
    "import pandas as pd\n",
    "\n",
    "df = pd.read_csv('Indicators.csv')\n",
    "df"
   ]
  },
  {
   "cell_type": "code",
   "execution_count": 6,
   "metadata": {},
   "outputs": [
    {
     "data": {
      "text/plain": [
       "5656458"
      ]
     },
     "execution_count": 6,
     "metadata": {},
     "output_type": "execute_result"
    }
   ],
   "source": [
    "#Déterminez le nombre d'enregistrements\n",
    "len(df)"
   ]
  },
  {
   "cell_type": "code",
   "execution_count": 7,
   "metadata": {},
   "outputs": [
    {
     "data": {
      "text/plain": [
       "6"
      ]
     },
     "execution_count": 7,
     "metadata": {},
     "output_type": "execute_result"
    }
   ],
   "source": [
    "#Déterminez le nombre de colonnes\n",
    "len(df.columns)"
   ]
  },
  {
   "cell_type": "code",
   "execution_count": 3,
   "metadata": {},
   "outputs": [
    {
     "data": {
      "text/plain": [
       "1344"
      ]
     },
     "execution_count": 3,
     "metadata": {},
     "output_type": "execute_result"
    }
   ],
   "source": [
    "#Déterminez le nombre de pays (zones géographiques)\n",
    "len(df['IndicatorName'].unique())"
   ]
  },
  {
   "cell_type": "code",
   "execution_count": 9,
   "metadata": {},
   "outputs": [
    {
     "data": {
      "text/plain": [
       "[1960, 2015]"
      ]
     },
     "execution_count": 9,
     "metadata": {},
     "output_type": "execute_result"
    }
   ],
   "source": [
    "#Déterminez la plage des années traitées par ce jeu de données\n",
    "L=[df['Year'].min(),df['Year'].max()]\n",
    "L"
   ]
  },
  {
   "cell_type": "code",
   "execution_count": 11,
   "metadata": {},
   "outputs": [
    {
     "name": "stdout",
     "output_type": "stream",
     "text": [
      "['Adolescent fertility rate (births per 1,000 women ages 15-19)'\n",
      " 'Age dependency ratio (% of working-age population)'\n",
      " 'Age dependency ratio, old (% of working-age population)' ...\n",
      " 'Fish species, threatened' 'Mammal species, threatened'\n",
      " 'Plant species (higher), threatened']\n",
      "1344\n"
     ]
    }
   ],
   "source": [
    "#Déterminez la liste des indicateurs et leur nombre\n",
    "indic=df['IndicatorName'].unique()\n",
    "print(indic)\n",
    "print(len(indic))"
   ]
  },
  {
   "cell_type": "code",
   "execution_count": 12,
   "metadata": {},
   "outputs": [
    {
     "data": {
      "text/plain": [
       "dtype('int64')"
      ]
     },
     "execution_count": 12,
     "metadata": {},
     "output_type": "execute_result"
    }
   ],
   "source": [
    "#Déterminez la liste des indicateurs et leur nombre\n",
    "df['Year'].dtype"
   ]
  },
  {
   "cell_type": "code",
   "execution_count": 13,
   "metadata": {},
   "outputs": [
    {
     "data": {
      "text/plain": [
       "'IndicatorCode'"
      ]
     },
     "execution_count": 13,
     "metadata": {},
     "output_type": "execute_result"
    }
   ],
   "source": [
    "#Quelle données représente la troisième colonne ?\n",
    "df.columns[3]"
   ]
  },
  {
   "cell_type": "code",
   "execution_count": 14,
   "metadata": {},
   "outputs": [
    {
     "data": {
      "text/plain": [
       "84374"
      ]
     },
     "execution_count": 14,
     "metadata": {},
     "output_type": "execute_result"
    }
   ],
   "source": [
    "#Combien y a-t-il d'enregistrements pour lesquels la colonnes 'Year' a la valeur 1981 ?\n",
    "len(df[df['Year']==1981])"
   ]
  },
  {
   "cell_type": "code",
   "execution_count": 22,
   "metadata": {},
   "outputs": [
    {
     "data": {
      "text/plain": [
       "227279"
      ]
     },
     "execution_count": 22,
     "metadata": {},
     "output_type": "execute_result"
    }
   ],
   "source": [
    "#Combien y a-t-il d'enregistrement traitant d'une année comprise entre 1976 et 1980 ?\n",
    "len(df[(df['Year']>1976) & (df['Year']<1980)])"
   ]
  },
  {
   "cell_type": "code",
   "execution_count": 23,
   "metadata": {},
   "outputs": [
    {
     "data": {
      "text/plain": [
       "2015"
      ]
     },
     "execution_count": 23,
     "metadata": {},
     "output_type": "execute_result"
    }
   ],
   "source": [
    "#Quelle est l'année la plus récente dans ce jeu de données ?\n",
    "df['Year'].max()"
   ]
  },
  {
   "cell_type": "code",
   "execution_count": 24,
   "metadata": {},
   "outputs": [
    {
     "data": {
      "text/plain": [
       "1344"
      ]
     },
     "execution_count": 24,
     "metadata": {},
     "output_type": "execute_result"
    }
   ],
   "source": [
    "#Combien y a-t-il de valeurs différentes pour la colonnes 'IndicatorName' ?\n",
    "len(df['IndicatorName'].unique())"
   ]
  },
  {
   "cell_type": "code",
   "execution_count": 26,
   "metadata": {},
   "outputs": [
    {
     "data": {
      "text/plain": [
       "IndicatorName\n",
       "Population, total                           13484\n",
       "Population growth (annual %)                13442\n",
       "Rural population (% of total population)    13415\n",
       "Urban population (% of total)               13415\n",
       "Urban population                            13374\n",
       "Name: count, dtype: int64"
      ]
     },
     "execution_count": 26,
     "metadata": {},
     "output_type": "execute_result"
    }
   ],
   "source": [
    "#Quels sont les 5 indicateurs les plus représentés dans le jeu de données ?\n",
    "(df['IndicatorName'].value_counts()).head(5)"
   ]
  },
  {
   "cell_type": "code",
   "execution_count": 27,
   "metadata": {},
   "outputs": [
    {
     "data": {
      "text/plain": [
       "13374"
      ]
     },
     "execution_count": 27,
     "metadata": {},
     "output_type": "execute_result"
    }
   ],
   "source": [
    "#Combien de fois est représenté le 5ème indicateurs le plus représenté ?\n",
    "len(df[df['IndicatorName']=='Urban population'])"
   ]
  },
  {
   "cell_type": "code",
   "execution_count": 28,
   "metadata": {},
   "outputs": [
    {
     "data": {
      "text/plain": [
       "362"
      ]
     },
     "execution_count": 28,
     "metadata": {},
     "output_type": "execute_result"
    }
   ],
   "source": [
    "#Combien y a-t-il d'enregistrements concernant la France en 1976 ?\n",
    "len(df[(df['CountryName']=='France') & (df['Year']==1976)])"
   ]
  },
  {
   "cell_type": "code",
   "execution_count": 33,
   "metadata": {},
   "outputs": [
    {
     "data": {
      "text/plain": [
       "362"
      ]
     },
     "execution_count": 33,
     "metadata": {},
     "output_type": "execute_result"
    }
   ],
   "source": [
    "#Combien y a-t-il de valeurs différentes pour 'IndicatorName' concernant la France en 1976 ?\n",
    "f=df[(df['CountryName']=='France') & (df['Year']==1976)]\n",
    "len(f['IndicatorName'].unique())"
   ]
  },
  {
   "cell_type": "code",
   "execution_count": 35,
   "metadata": {},
   "outputs": [
    {
     "data": {
      "text/plain": [
       "IndicatorName\n",
       "Adjusted net enrolment rate, primary, both sexes (%)             1\n",
       "Market capitalization of listed domestic companies (% of GDP)    1\n",
       "Manufacturing, value added (current LCU)                         1\n",
       "Manufacturing, value added (constant LCU)                        1\n",
       "Manufacturing, value added (constant 2005 US$)                   1\n",
       "                                                                ..\n",
       "Fixed telephone subscriptions                                    1\n",
       "Final consumption expenditure, etc. (current US$)                1\n",
       "Final consumption expenditure, etc. (current LCU)                1\n",
       "Final consumption expenditure, etc. (constant LCU)               1\n",
       "Urban population growth (annual %)                               1\n",
       "Name: count, Length: 362, dtype: int64"
      ]
     },
     "execution_count": 35,
     "metadata": {},
     "output_type": "execute_result"
    }
   ],
   "source": [
    "#Combien de fois chacun d'eux est-il représenté ?\n",
    "f['IndicatorName'].value_counts()"
   ]
  }
 ],
 "metadata": {
  "kernelspec": {
   "display_name": "base",
   "language": "python",
   "name": "python3"
  },
  "language_info": {
   "codemirror_mode": {
    "name": "ipython",
    "version": 3
   },
   "file_extension": ".py",
   "mimetype": "text/x-python",
   "name": "python",
   "nbconvert_exporter": "python",
   "pygments_lexer": "ipython3",
   "version": "3.11.4"
  }
 },
 "nbformat": 4,
 "nbformat_minor": 2
}
