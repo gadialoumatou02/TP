{
 "cells": [
  {
   "cell_type": "code",
   "execution_count": 54,
   "metadata": {},
   "outputs": [
    {
     "data": {
      "text/html": [
       "<div>\n",
       "<style scoped>\n",
       "    .dataframe tbody tr th:only-of-type {\n",
       "        vertical-align: middle;\n",
       "    }\n",
       "\n",
       "    .dataframe tbody tr th {\n",
       "        vertical-align: top;\n",
       "    }\n",
       "\n",
       "    .dataframe thead th {\n",
       "        text-align: right;\n",
       "    }\n",
       "</style>\n",
       "<table border=\"1\" class=\"dataframe\">\n",
       "  <thead>\n",
       "    <tr style=\"text-align: right;\">\n",
       "      <th></th>\n",
       "      <th>CountryName</th>\n",
       "      <th>CountryCode</th>\n",
       "      <th>IndicatorName</th>\n",
       "      <th>IndicatorCode</th>\n",
       "      <th>Year</th>\n",
       "      <th>Value</th>\n",
       "    </tr>\n",
       "  </thead>\n",
       "  <tbody>\n",
       "    <tr>\n",
       "      <th>0</th>\n",
       "      <td>Arab World</td>\n",
       "      <td>ARB</td>\n",
       "      <td>Adolescent fertility rate (births per 1,000 wo...</td>\n",
       "      <td>SP.ADO.TFRT</td>\n",
       "      <td>1960</td>\n",
       "      <td>1.335609e+02</td>\n",
       "    </tr>\n",
       "    <tr>\n",
       "      <th>1</th>\n",
       "      <td>Arab World</td>\n",
       "      <td>ARB</td>\n",
       "      <td>Age dependency ratio (% of working-age populat...</td>\n",
       "      <td>SP.POP.DPND</td>\n",
       "      <td>1960</td>\n",
       "      <td>8.779760e+01</td>\n",
       "    </tr>\n",
       "    <tr>\n",
       "      <th>2</th>\n",
       "      <td>Arab World</td>\n",
       "      <td>ARB</td>\n",
       "      <td>Age dependency ratio, old (% of working-age po...</td>\n",
       "      <td>SP.POP.DPND.OL</td>\n",
       "      <td>1960</td>\n",
       "      <td>6.634579e+00</td>\n",
       "    </tr>\n",
       "    <tr>\n",
       "      <th>3</th>\n",
       "      <td>Arab World</td>\n",
       "      <td>ARB</td>\n",
       "      <td>Age dependency ratio, young (% of working-age ...</td>\n",
       "      <td>SP.POP.DPND.YG</td>\n",
       "      <td>1960</td>\n",
       "      <td>8.102333e+01</td>\n",
       "    </tr>\n",
       "    <tr>\n",
       "      <th>4</th>\n",
       "      <td>Arab World</td>\n",
       "      <td>ARB</td>\n",
       "      <td>Arms exports (SIPRI trend indicator values)</td>\n",
       "      <td>MS.MIL.XPRT.KD</td>\n",
       "      <td>1960</td>\n",
       "      <td>3.000000e+06</td>\n",
       "    </tr>\n",
       "    <tr>\n",
       "      <th>...</th>\n",
       "      <td>...</td>\n",
       "      <td>...</td>\n",
       "      <td>...</td>\n",
       "      <td>...</td>\n",
       "      <td>...</td>\n",
       "      <td>...</td>\n",
       "    </tr>\n",
       "    <tr>\n",
       "      <th>5656453</th>\n",
       "      <td>Zimbabwe</td>\n",
       "      <td>ZWE</td>\n",
       "      <td>Time required to register property (days)</td>\n",
       "      <td>IC.PRP.DURS</td>\n",
       "      <td>2015</td>\n",
       "      <td>3.600000e+01</td>\n",
       "    </tr>\n",
       "    <tr>\n",
       "      <th>5656454</th>\n",
       "      <td>Zimbabwe</td>\n",
       "      <td>ZWE</td>\n",
       "      <td>Time required to start a business (days)</td>\n",
       "      <td>IC.REG.DURS</td>\n",
       "      <td>2015</td>\n",
       "      <td>9.000000e+01</td>\n",
       "    </tr>\n",
       "    <tr>\n",
       "      <th>5656455</th>\n",
       "      <td>Zimbabwe</td>\n",
       "      <td>ZWE</td>\n",
       "      <td>Time to prepare and pay taxes (hours)</td>\n",
       "      <td>IC.TAX.DURS</td>\n",
       "      <td>2015</td>\n",
       "      <td>2.420000e+02</td>\n",
       "    </tr>\n",
       "    <tr>\n",
       "      <th>5656456</th>\n",
       "      <td>Zimbabwe</td>\n",
       "      <td>ZWE</td>\n",
       "      <td>Time to resolve insolvency (years)</td>\n",
       "      <td>IC.ISV.DURS</td>\n",
       "      <td>2015</td>\n",
       "      <td>3.300000e+00</td>\n",
       "    </tr>\n",
       "    <tr>\n",
       "      <th>5656457</th>\n",
       "      <td>Zimbabwe</td>\n",
       "      <td>ZWE</td>\n",
       "      <td>Total tax rate (% of commercial profits)</td>\n",
       "      <td>IC.TAX.TOTL.CP.ZS</td>\n",
       "      <td>2015</td>\n",
       "      <td>3.280000e+01</td>\n",
       "    </tr>\n",
       "  </tbody>\n",
       "</table>\n",
       "<p>5656458 rows × 6 columns</p>\n",
       "</div>"
      ],
      "text/plain": [
       "        CountryName CountryCode  \\\n",
       "0        Arab World         ARB   \n",
       "1        Arab World         ARB   \n",
       "2        Arab World         ARB   \n",
       "3        Arab World         ARB   \n",
       "4        Arab World         ARB   \n",
       "...             ...         ...   \n",
       "5656453    Zimbabwe         ZWE   \n",
       "5656454    Zimbabwe         ZWE   \n",
       "5656455    Zimbabwe         ZWE   \n",
       "5656456    Zimbabwe         ZWE   \n",
       "5656457    Zimbabwe         ZWE   \n",
       "\n",
       "                                             IndicatorName      IndicatorCode  \\\n",
       "0        Adolescent fertility rate (births per 1,000 wo...        SP.ADO.TFRT   \n",
       "1        Age dependency ratio (% of working-age populat...        SP.POP.DPND   \n",
       "2        Age dependency ratio, old (% of working-age po...     SP.POP.DPND.OL   \n",
       "3        Age dependency ratio, young (% of working-age ...     SP.POP.DPND.YG   \n",
       "4              Arms exports (SIPRI trend indicator values)     MS.MIL.XPRT.KD   \n",
       "...                                                    ...                ...   \n",
       "5656453          Time required to register property (days)        IC.PRP.DURS   \n",
       "5656454           Time required to start a business (days)        IC.REG.DURS   \n",
       "5656455              Time to prepare and pay taxes (hours)        IC.TAX.DURS   \n",
       "5656456                 Time to resolve insolvency (years)        IC.ISV.DURS   \n",
       "5656457           Total tax rate (% of commercial profits)  IC.TAX.TOTL.CP.ZS   \n",
       "\n",
       "         Year         Value  \n",
       "0        1960  1.335609e+02  \n",
       "1        1960  8.779760e+01  \n",
       "2        1960  6.634579e+00  \n",
       "3        1960  8.102333e+01  \n",
       "4        1960  3.000000e+06  \n",
       "...       ...           ...  \n",
       "5656453  2015  3.600000e+01  \n",
       "5656454  2015  9.000000e+01  \n",
       "5656455  2015  2.420000e+02  \n",
       "5656456  2015  3.300000e+00  \n",
       "5656457  2015  3.280000e+01  \n",
       "\n",
       "[5656458 rows x 6 columns]"
      ]
     },
     "execution_count": 54,
     "metadata": {},
     "output_type": "execute_result"
    }
   ],
   "source": [
    "#Chargez dans un dataframe pandas le fichiers Indicators.csv\n",
    "import pandas as pd\n",
    "\n",
    "df = pd.read_csv('Indicators.csv')\n",
    "df"
   ]
  },
  {
   "cell_type": "code",
   "execution_count": 55,
   "metadata": {},
   "outputs": [
    {
     "data": {
      "text/plain": [
       "5656458"
      ]
     },
     "execution_count": 55,
     "metadata": {},
     "output_type": "execute_result"
    }
   ],
   "source": [
    "#Déterminez le nombre d'enregistrements\n",
    "len(df)"
   ]
  },
  {
   "cell_type": "code",
   "execution_count": 56,
   "metadata": {},
   "outputs": [
    {
     "data": {
      "text/plain": [
       "6"
      ]
     },
     "execution_count": 56,
     "metadata": {},
     "output_type": "execute_result"
    }
   ],
   "source": [
    "#Déterminez le nombre de colonnes\n",
    "len(df.columns)"
   ]
  },
  {
   "cell_type": "code",
   "execution_count": 57,
   "metadata": {},
   "outputs": [
    {
     "data": {
      "text/plain": [
       "1347"
      ]
     },
     "execution_count": 57,
     "metadata": {},
     "output_type": "execute_result"
    }
   ],
   "source": [
    "#Déterminez le nombre de pays (zones géographiques)\n",
    "len(df['IndicatorName'].unique())"
   ]
  },
  {
   "cell_type": "code",
   "execution_count": 58,
   "metadata": {},
   "outputs": [
    {
     "data": {
      "text/plain": [
       "[1960, 2015]"
      ]
     },
     "execution_count": 58,
     "metadata": {},
     "output_type": "execute_result"
    }
   ],
   "source": [
    "#Déterminez la plage des années traitées par ce jeu de données\n",
    "L=[df['Year'].min(),df['Year'].max()]\n",
    "L"
   ]
  },
  {
   "cell_type": "code",
   "execution_count": 59,
   "metadata": {},
   "outputs": [
    {
     "name": "stdout",
     "output_type": "stream",
     "text": [
      "['Adolescent fertility rate (births per 1,000 women ages 15-19)'\n",
      " 'Age dependency ratio (% of working-age population)'\n",
      " 'Age dependency ratio, old (% of working-age population)' ...\n",
      " 'Fish species, threatened' 'Mammal species, threatened'\n",
      " 'Plant species (higher), threatened']\n",
      "1347\n"
     ]
    }
   ],
   "source": [
    "#Déterminez la liste des indicateurs et leur nombre\n",
    "indic=df['IndicatorName'].unique()\n",
    "print(indic)\n",
    "print(len(indic))"
   ]
  },
  {
   "cell_type": "code",
   "execution_count": 60,
   "metadata": {},
   "outputs": [
    {
     "data": {
      "text/plain": [
       "dtype('int64')"
      ]
     },
     "execution_count": 60,
     "metadata": {},
     "output_type": "execute_result"
    }
   ],
   "source": [
    "#Déterminez la liste des indicateurs et leur nombre\n",
    "df['Year'].dtype"
   ]
  },
  {
   "cell_type": "code",
   "execution_count": 61,
   "metadata": {},
   "outputs": [
    {
     "data": {
      "text/plain": [
       "'IndicatorCode'"
      ]
     },
     "execution_count": 61,
     "metadata": {},
     "output_type": "execute_result"
    }
   ],
   "source": [
    "#Quelle données représente la troisième colonne ?\n",
    "df.columns[3]"
   ]
  },
  {
   "cell_type": "code",
   "execution_count": 62,
   "metadata": {},
   "outputs": [
    {
     "data": {
      "text/plain": [
       "84374"
      ]
     },
     "execution_count": 62,
     "metadata": {},
     "output_type": "execute_result"
    }
   ],
   "source": [
    "#Combien y a-t-il d'enregistrements pour lesquels la colonnes 'Year' a la valeur 1981 ?\n",
    "len(df[df['Year']==1981])"
   ]
  },
  {
   "cell_type": "code",
   "execution_count": 63,
   "metadata": {},
   "outputs": [
    {
     "data": {
      "text/plain": [
       "227279"
      ]
     },
     "execution_count": 63,
     "metadata": {},
     "output_type": "execute_result"
    }
   ],
   "source": [
    "#Combien y a-t-il d'enregistrement traitant d'une année comprise entre 1976 et 1980 ?\n",
    "len(df[(df['Year']>1976) & (df['Year']<1980)])"
   ]
  },
  {
   "cell_type": "code",
   "execution_count": 64,
   "metadata": {},
   "outputs": [
    {
     "data": {
      "text/plain": [
       "2015"
      ]
     },
     "execution_count": 64,
     "metadata": {},
     "output_type": "execute_result"
    }
   ],
   "source": [
    "#Quelle est l'année la plus récente dans ce jeu de données ?\n",
    "df['Year'].max()"
   ]
  },
  {
   "cell_type": "code",
   "execution_count": 65,
   "metadata": {},
   "outputs": [
    {
     "data": {
      "text/plain": [
       "1347"
      ]
     },
     "execution_count": 65,
     "metadata": {},
     "output_type": "execute_result"
    }
   ],
   "source": [
    "#Combien y a-t-il de valeurs différentes pour la colonnes 'IndicatorName' ?\n",
    "len(df['IndicatorName'].unique())"
   ]
  },
  {
   "cell_type": "code",
   "execution_count": 66,
   "metadata": {},
   "outputs": [
    {
     "data": {
      "text/plain": [
       "IndicatorName\n",
       "Population, total                           13484\n",
       "Population growth (annual %)                13442\n",
       "Urban population (% of total)               13415\n",
       "Rural population (% of total population)    13415\n",
       "Urban population                            13374\n",
       "Name: count, dtype: int64"
      ]
     },
     "execution_count": 66,
     "metadata": {},
     "output_type": "execute_result"
    }
   ],
   "source": [
    "#Quels sont les 5 indicateurs les plus représentés dans le jeu de données ?\n",
    "(df['IndicatorName'].value_counts()).head(5)"
   ]
  },
  {
   "cell_type": "code",
   "execution_count": 67,
   "metadata": {},
   "outputs": [
    {
     "data": {
      "text/plain": [
       "13374"
      ]
     },
     "execution_count": 67,
     "metadata": {},
     "output_type": "execute_result"
    }
   ],
   "source": [
    "#Combien de fois est représenté le 5ème indicateurs le plus représenté ?\n",
    "len(df[df['IndicatorName']=='Urban population'])"
   ]
  },
  {
   "cell_type": "code",
   "execution_count": 68,
   "metadata": {},
   "outputs": [
    {
     "data": {
      "text/plain": [
       "362"
      ]
     },
     "execution_count": 68,
     "metadata": {},
     "output_type": "execute_result"
    }
   ],
   "source": [
    "#Combien y a-t-il d'enregistrements concernant la France en 1976 ?\n",
    "len(df[(df['CountryName']=='France') & (df['Year']==1976)])"
   ]
  },
  {
   "cell_type": "code",
   "execution_count": 69,
   "metadata": {},
   "outputs": [
    {
     "data": {
      "text/plain": [
       "362"
      ]
     },
     "execution_count": 69,
     "metadata": {},
     "output_type": "execute_result"
    }
   ],
   "source": [
    "#Combien y a-t-il de valeurs différentes pour 'IndicatorName' concernant la France en 1976 ?\n",
    "f=df[(df['CountryName']=='France') & (df['Year']==1976)]\n",
    "len(f['IndicatorName'].unique())"
   ]
  },
  {
   "cell_type": "code",
   "execution_count": 70,
   "metadata": {},
   "outputs": [
    {
     "data": {
      "text/plain": [
       "IndicatorName\n",
       "Adjusted net enrolment rate, primary, both sexes (%)             1\n",
       "Market capitalization of listed domestic companies (% of GDP)    1\n",
       "Manufacturing, value added (current LCU)                         1\n",
       "Manufacturing, value added (constant LCU)                        1\n",
       "Manufacturing, value added (constant 2005 US$)                   1\n",
       "                                                                ..\n",
       "Fixed telephone subscriptions                                    1\n",
       "Final consumption expenditure, etc. (current US$)                1\n",
       "Final consumption expenditure, etc. (current LCU)                1\n",
       "Final consumption expenditure, etc. (constant LCU)               1\n",
       "Urban population growth (annual %)                               1\n",
       "Name: count, Length: 362, dtype: int64"
      ]
     },
     "execution_count": 70,
     "metadata": {},
     "output_type": "execute_result"
    }
   ],
   "source": [
    "#Combien de fois chacun d'eux est-il représenté ?\n",
    "f['IndicatorName'].value_counts()"
   ]
  },
  {
   "cell_type": "code",
   "execution_count": 71,
   "metadata": {},
   "outputs": [
    {
     "data": {
      "text/plain": [
       "Year\n",
       "2010    187206\n",
       "Name: count, dtype: int64"
      ]
     },
     "execution_count": 71,
     "metadata": {},
     "output_type": "execute_result"
    }
   ],
   "source": [
    "#Quelle est l'année la plus représentée dans le jeu de données ? \n",
    "#Combien de fois y apparait-elle ?\n",
    "(df['Year'].value_counts()).head(1)"
   ]
  },
  {
   "cell_type": "code",
   "execution_count": 72,
   "metadata": {},
   "outputs": [
    {
     "data": {
      "text/html": [
       "<div>\n",
       "<style scoped>\n",
       "    .dataframe tbody tr th:only-of-type {\n",
       "        vertical-align: middle;\n",
       "    }\n",
       "\n",
       "    .dataframe tbody tr th {\n",
       "        vertical-align: top;\n",
       "    }\n",
       "\n",
       "    .dataframe thead th {\n",
       "        text-align: right;\n",
       "    }\n",
       "</style>\n",
       "<table border=\"1\" class=\"dataframe\">\n",
       "  <thead>\n",
       "    <tr style=\"text-align: right;\">\n",
       "      <th></th>\n",
       "      <th>CountryName</th>\n",
       "      <th>CountryCode</th>\n",
       "      <th>IndicatorName</th>\n",
       "      <th>IndicatorCode</th>\n",
       "      <th>Year</th>\n",
       "      <th>Value</th>\n",
       "    </tr>\n",
       "  </thead>\n",
       "  <tbody>\n",
       "    <tr>\n",
       "      <th>9579</th>\n",
       "      <td>France</td>\n",
       "      <td>FRA</td>\n",
       "      <td>CO2 emissions (metric tons per capita)</td>\n",
       "      <td>EN.ATM.CO2E.PC</td>\n",
       "      <td>1960</td>\n",
       "      <td>5.793508</td>\n",
       "    </tr>\n",
       "    <tr>\n",
       "      <th>34236</th>\n",
       "      <td>France</td>\n",
       "      <td>FRA</td>\n",
       "      <td>CO2 emissions (metric tons per capita)</td>\n",
       "      <td>EN.ATM.CO2E.PC</td>\n",
       "      <td>1961</td>\n",
       "      <td>5.927130</td>\n",
       "    </tr>\n",
       "    <tr>\n",
       "      <th>61648</th>\n",
       "      <td>France</td>\n",
       "      <td>FRA</td>\n",
       "      <td>CO2 emissions (metric tons per capita)</td>\n",
       "      <td>EN.ATM.CO2E.PC</td>\n",
       "      <td>1962</td>\n",
       "      <td>6.207578</td>\n",
       "    </tr>\n",
       "    <tr>\n",
       "      <th>90090</th>\n",
       "      <td>France</td>\n",
       "      <td>FRA</td>\n",
       "      <td>CO2 emissions (metric tons per capita)</td>\n",
       "      <td>EN.ATM.CO2E.PC</td>\n",
       "      <td>1963</td>\n",
       "      <td>6.844150</td>\n",
       "    </tr>\n",
       "    <tr>\n",
       "      <th>118822</th>\n",
       "      <td>France</td>\n",
       "      <td>FRA</td>\n",
       "      <td>CO2 emissions (metric tons per capita)</td>\n",
       "      <td>EN.ATM.CO2E.PC</td>\n",
       "      <td>1964</td>\n",
       "      <td>6.982957</td>\n",
       "    </tr>\n",
       "    <tr>\n",
       "      <th>149254</th>\n",
       "      <td>France</td>\n",
       "      <td>FRA</td>\n",
       "      <td>CO2 emissions (metric tons per capita)</td>\n",
       "      <td>EN.ATM.CO2E.PC</td>\n",
       "      <td>1965</td>\n",
       "      <td>7.033702</td>\n",
       "    </tr>\n",
       "    <tr>\n",
       "      <th>180978</th>\n",
       "      <td>France</td>\n",
       "      <td>FRA</td>\n",
       "      <td>CO2 emissions (metric tons per capita)</td>\n",
       "      <td>EN.ATM.CO2E.PC</td>\n",
       "      <td>1966</td>\n",
       "      <td>6.874765</td>\n",
       "    </tr>\n",
       "    <tr>\n",
       "      <th>212808</th>\n",
       "      <td>France</td>\n",
       "      <td>FRA</td>\n",
       "      <td>CO2 emissions (metric tons per capita)</td>\n",
       "      <td>EN.ATM.CO2E.PC</td>\n",
       "      <td>1967</td>\n",
       "      <td>7.306422</td>\n",
       "    </tr>\n",
       "    <tr>\n",
       "      <th>245426</th>\n",
       "      <td>France</td>\n",
       "      <td>FRA</td>\n",
       "      <td>CO2 emissions (metric tons per capita)</td>\n",
       "      <td>EN.ATM.CO2E.PC</td>\n",
       "      <td>1968</td>\n",
       "      <td>7.501194</td>\n",
       "    </tr>\n",
       "    <tr>\n",
       "      <th>278185</th>\n",
       "      <td>France</td>\n",
       "      <td>FRA</td>\n",
       "      <td>CO2 emissions (metric tons per capita)</td>\n",
       "      <td>EN.ATM.CO2E.PC</td>\n",
       "      <td>1969</td>\n",
       "      <td>8.002979</td>\n",
       "    </tr>\n",
       "    <tr>\n",
       "      <th>323298</th>\n",
       "      <td>France</td>\n",
       "      <td>FRA</td>\n",
       "      <td>CO2 emissions (metric tons per capita)</td>\n",
       "      <td>EN.ATM.CO2E.PC</td>\n",
       "      <td>1970</td>\n",
       "      <td>8.436868</td>\n",
       "    </tr>\n",
       "    <tr>\n",
       "      <th>387856</th>\n",
       "      <td>France</td>\n",
       "      <td>FRA</td>\n",
       "      <td>CO2 emissions (metric tons per capita)</td>\n",
       "      <td>EN.ATM.CO2E.PC</td>\n",
       "      <td>1971</td>\n",
       "      <td>8.811560</td>\n",
       "    </tr>\n",
       "    <tr>\n",
       "      <th>456806</th>\n",
       "      <td>France</td>\n",
       "      <td>FRA</td>\n",
       "      <td>CO2 emissions (metric tons per capita)</td>\n",
       "      <td>EN.ATM.CO2E.PC</td>\n",
       "      <td>1972</td>\n",
       "      <td>9.077342</td>\n",
       "    </tr>\n",
       "    <tr>\n",
       "      <th>526625</th>\n",
       "      <td>France</td>\n",
       "      <td>FRA</td>\n",
       "      <td>CO2 emissions (metric tons per capita)</td>\n",
       "      <td>EN.ATM.CO2E.PC</td>\n",
       "      <td>1973</td>\n",
       "      <td>9.666681</td>\n",
       "    </tr>\n",
       "    <tr>\n",
       "      <th>596424</th>\n",
       "      <td>France</td>\n",
       "      <td>FRA</td>\n",
       "      <td>CO2 emissions (metric tons per capita)</td>\n",
       "      <td>EN.ATM.CO2E.PC</td>\n",
       "      <td>1974</td>\n",
       "      <td>9.262231</td>\n",
       "    </tr>\n",
       "    <tr>\n",
       "      <th>667457</th>\n",
       "      <td>France</td>\n",
       "      <td>FRA</td>\n",
       "      <td>CO2 emissions (metric tons per capita)</td>\n",
       "      <td>EN.ATM.CO2E.PC</td>\n",
       "      <td>1975</td>\n",
       "      <td>8.237753</td>\n",
       "    </tr>\n",
       "    <tr>\n",
       "      <th>740246</th>\n",
       "      <td>France</td>\n",
       "      <td>FRA</td>\n",
       "      <td>CO2 emissions (metric tons per capita)</td>\n",
       "      <td>EN.ATM.CO2E.PC</td>\n",
       "      <td>1976</td>\n",
       "      <td>9.270049</td>\n",
       "    </tr>\n",
       "    <tr>\n",
       "      <th>814568</th>\n",
       "      <td>France</td>\n",
       "      <td>FRA</td>\n",
       "      <td>CO2 emissions (metric tons per capita)</td>\n",
       "      <td>EN.ATM.CO2E.PC</td>\n",
       "      <td>1977</td>\n",
       "      <td>8.780464</td>\n",
       "    </tr>\n",
       "    <tr>\n",
       "      <th>890019</th>\n",
       "      <td>France</td>\n",
       "      <td>FRA</td>\n",
       "      <td>CO2 emissions (metric tons per capita)</td>\n",
       "      <td>EN.ATM.CO2E.PC</td>\n",
       "      <td>1978</td>\n",
       "      <td>9.206144</td>\n",
       "    </tr>\n",
       "    <tr>\n",
       "      <th>965839</th>\n",
       "      <td>France</td>\n",
       "      <td>FRA</td>\n",
       "      <td>CO2 emissions (metric tons per capita)</td>\n",
       "      <td>EN.ATM.CO2E.PC</td>\n",
       "      <td>1979</td>\n",
       "      <td>9.598218</td>\n",
       "    </tr>\n",
       "    <tr>\n",
       "      <th>1044132</th>\n",
       "      <td>France</td>\n",
       "      <td>FRA</td>\n",
       "      <td>CO2 emissions (metric tons per capita)</td>\n",
       "      <td>EN.ATM.CO2E.PC</td>\n",
       "      <td>1980</td>\n",
       "      <td>9.131854</td>\n",
       "    </tr>\n",
       "    <tr>\n",
       "      <th>1127206</th>\n",
       "      <td>France</td>\n",
       "      <td>FRA</td>\n",
       "      <td>CO2 emissions (metric tons per capita)</td>\n",
       "      <td>EN.ATM.CO2E.PC</td>\n",
       "      <td>1981</td>\n",
       "      <td>8.180155</td>\n",
       "    </tr>\n",
       "    <tr>\n",
       "      <th>1211791</th>\n",
       "      <td>France</td>\n",
       "      <td>FRA</td>\n",
       "      <td>CO2 emissions (metric tons per capita)</td>\n",
       "      <td>EN.ATM.CO2E.PC</td>\n",
       "      <td>1982</td>\n",
       "      <td>7.821405</td>\n",
       "    </tr>\n",
       "    <tr>\n",
       "      <th>1296969</th>\n",
       "      <td>France</td>\n",
       "      <td>FRA</td>\n",
       "      <td>CO2 emissions (metric tons per capita)</td>\n",
       "      <td>EN.ATM.CO2E.PC</td>\n",
       "      <td>1983</td>\n",
       "      <td>7.525488</td>\n",
       "    </tr>\n",
       "    <tr>\n",
       "      <th>1382598</th>\n",
       "      <td>France</td>\n",
       "      <td>FRA</td>\n",
       "      <td>CO2 emissions (metric tons per capita)</td>\n",
       "      <td>EN.ATM.CO2E.PC</td>\n",
       "      <td>1984</td>\n",
       "      <td>7.177923</td>\n",
       "    </tr>\n",
       "    <tr>\n",
       "      <th>1469101</th>\n",
       "      <td>France</td>\n",
       "      <td>FRA</td>\n",
       "      <td>CO2 emissions (metric tons per capita)</td>\n",
       "      <td>EN.ATM.CO2E.PC</td>\n",
       "      <td>1985</td>\n",
       "      <td>7.058284</td>\n",
       "    </tr>\n",
       "    <tr>\n",
       "      <th>1556713</th>\n",
       "      <td>France</td>\n",
       "      <td>FRA</td>\n",
       "      <td>CO2 emissions (metric tons per capita)</td>\n",
       "      <td>EN.ATM.CO2E.PC</td>\n",
       "      <td>1986</td>\n",
       "      <td>6.749453</td>\n",
       "    </tr>\n",
       "    <tr>\n",
       "      <th>1645238</th>\n",
       "      <td>France</td>\n",
       "      <td>FRA</td>\n",
       "      <td>CO2 emissions (metric tons per capita)</td>\n",
       "      <td>EN.ATM.CO2E.PC</td>\n",
       "      <td>1987</td>\n",
       "      <td>6.567066</td>\n",
       "    </tr>\n",
       "    <tr>\n",
       "      <th>1734410</th>\n",
       "      <td>France</td>\n",
       "      <td>FRA</td>\n",
       "      <td>CO2 emissions (metric tons per capita)</td>\n",
       "      <td>EN.ATM.CO2E.PC</td>\n",
       "      <td>1988</td>\n",
       "      <td>6.435520</td>\n",
       "    </tr>\n",
       "    <tr>\n",
       "      <th>1825390</th>\n",
       "      <td>France</td>\n",
       "      <td>FRA</td>\n",
       "      <td>CO2 emissions (metric tons per capita)</td>\n",
       "      <td>EN.ATM.CO2E.PC</td>\n",
       "      <td>1989</td>\n",
       "      <td>6.714181</td>\n",
       "    </tr>\n",
       "    <tr>\n",
       "      <th>1928131</th>\n",
       "      <td>France</td>\n",
       "      <td>FRA</td>\n",
       "      <td>CO2 emissions (metric tons per capita)</td>\n",
       "      <td>EN.ATM.CO2E.PC</td>\n",
       "      <td>1990</td>\n",
       "      <td>6.419668</td>\n",
       "    </tr>\n",
       "    <tr>\n",
       "      <th>2045196</th>\n",
       "      <td>France</td>\n",
       "      <td>FRA</td>\n",
       "      <td>CO2 emissions (metric tons per capita)</td>\n",
       "      <td>EN.ATM.CO2E.PC</td>\n",
       "      <td>1991</td>\n",
       "      <td>6.670624</td>\n",
       "    </tr>\n",
       "    <tr>\n",
       "      <th>2162741</th>\n",
       "      <td>France</td>\n",
       "      <td>FRA</td>\n",
       "      <td>CO2 emissions (metric tons per capita)</td>\n",
       "      <td>EN.ATM.CO2E.PC</td>\n",
       "      <td>1992</td>\n",
       "      <td>6.216013</td>\n",
       "    </tr>\n",
       "    <tr>\n",
       "      <th>2285589</th>\n",
       "      <td>France</td>\n",
       "      <td>FRA</td>\n",
       "      <td>CO2 emissions (metric tons per capita)</td>\n",
       "      <td>EN.ATM.CO2E.PC</td>\n",
       "      <td>1993</td>\n",
       "      <td>6.088322</td>\n",
       "    </tr>\n",
       "    <tr>\n",
       "      <th>2410414</th>\n",
       "      <td>France</td>\n",
       "      <td>FRA</td>\n",
       "      <td>CO2 emissions (metric tons per capita)</td>\n",
       "      <td>EN.ATM.CO2E.PC</td>\n",
       "      <td>1994</td>\n",
       "      <td>5.698799</td>\n",
       "    </tr>\n",
       "    <tr>\n",
       "      <th>2539511</th>\n",
       "      <td>France</td>\n",
       "      <td>FRA</td>\n",
       "      <td>CO2 emissions (metric tons per capita)</td>\n",
       "      <td>EN.ATM.CO2E.PC</td>\n",
       "      <td>1995</td>\n",
       "      <td>5.863379</td>\n",
       "    </tr>\n",
       "    <tr>\n",
       "      <th>2674449</th>\n",
       "      <td>France</td>\n",
       "      <td>FRA</td>\n",
       "      <td>CO2 emissions (metric tons per capita)</td>\n",
       "      <td>EN.ATM.CO2E.PC</td>\n",
       "      <td>1996</td>\n",
       "      <td>6.280524</td>\n",
       "    </tr>\n",
       "    <tr>\n",
       "      <th>2809885</th>\n",
       "      <td>France</td>\n",
       "      <td>FRA</td>\n",
       "      <td>CO2 emissions (metric tons per capita)</td>\n",
       "      <td>EN.ATM.CO2E.PC</td>\n",
       "      <td>1997</td>\n",
       "      <td>5.861895</td>\n",
       "    </tr>\n",
       "    <tr>\n",
       "      <th>2946672</th>\n",
       "      <td>France</td>\n",
       "      <td>FRA</td>\n",
       "      <td>CO2 emissions (metric tons per capita)</td>\n",
       "      <td>EN.ATM.CO2E.PC</td>\n",
       "      <td>1998</td>\n",
       "      <td>6.344928</td>\n",
       "    </tr>\n",
       "    <tr>\n",
       "      <th>3085547</th>\n",
       "      <td>France</td>\n",
       "      <td>FRA</td>\n",
       "      <td>CO2 emissions (metric tons per capita)</td>\n",
       "      <td>EN.ATM.CO2E.PC</td>\n",
       "      <td>1999</td>\n",
       "      <td>6.173260</td>\n",
       "    </tr>\n",
       "    <tr>\n",
       "      <th>3233057</th>\n",
       "      <td>France</td>\n",
       "      <td>FRA</td>\n",
       "      <td>CO2 emissions (metric tons per capita)</td>\n",
       "      <td>EN.ATM.CO2E.PC</td>\n",
       "      <td>2000</td>\n",
       "      <td>5.976826</td>\n",
       "    </tr>\n",
       "    <tr>\n",
       "      <th>3385758</th>\n",
       "      <td>France</td>\n",
       "      <td>FRA</td>\n",
       "      <td>CO2 emissions (metric tons per capita)</td>\n",
       "      <td>EN.ATM.CO2E.PC</td>\n",
       "      <td>2001</td>\n",
       "      <td>6.212048</td>\n",
       "    </tr>\n",
       "    <tr>\n",
       "      <th>3537973</th>\n",
       "      <td>France</td>\n",
       "      <td>FRA</td>\n",
       "      <td>CO2 emissions (metric tons per capita)</td>\n",
       "      <td>EN.ATM.CO2E.PC</td>\n",
       "      <td>2002</td>\n",
       "      <td>6.131022</td>\n",
       "    </tr>\n",
       "    <tr>\n",
       "      <th>3692294</th>\n",
       "      <td>France</td>\n",
       "      <td>FRA</td>\n",
       "      <td>CO2 emissions (metric tons per capita)</td>\n",
       "      <td>EN.ATM.CO2E.PC</td>\n",
       "      <td>2003</td>\n",
       "      <td>6.206665</td>\n",
       "    </tr>\n",
       "    <tr>\n",
       "      <th>3847343</th>\n",
       "      <td>France</td>\n",
       "      <td>FRA</td>\n",
       "      <td>CO2 emissions (metric tons per capita)</td>\n",
       "      <td>EN.ATM.CO2E.PC</td>\n",
       "      <td>2004</td>\n",
       "      <td>6.194114</td>\n",
       "    </tr>\n",
       "    <tr>\n",
       "      <th>4014836</th>\n",
       "      <td>France</td>\n",
       "      <td>FRA</td>\n",
       "      <td>CO2 emissions (metric tons per capita)</td>\n",
       "      <td>EN.ATM.CO2E.PC</td>\n",
       "      <td>2005</td>\n",
       "      <td>6.181610</td>\n",
       "    </tr>\n",
       "    <tr>\n",
       "      <th>4193780</th>\n",
       "      <td>France</td>\n",
       "      <td>FRA</td>\n",
       "      <td>CO2 emissions (metric tons per capita)</td>\n",
       "      <td>EN.ATM.CO2E.PC</td>\n",
       "      <td>2006</td>\n",
       "      <td>5.995894</td>\n",
       "    </tr>\n",
       "    <tr>\n",
       "      <th>4372463</th>\n",
       "      <td>France</td>\n",
       "      <td>FRA</td>\n",
       "      <td>CO2 emissions (metric tons per capita)</td>\n",
       "      <td>EN.ATM.CO2E.PC</td>\n",
       "      <td>2007</td>\n",
       "      <td>5.856547</td>\n",
       "    </tr>\n",
       "    <tr>\n",
       "      <th>4552798</th>\n",
       "      <td>France</td>\n",
       "      <td>FRA</td>\n",
       "      <td>CO2 emissions (metric tons per capita)</td>\n",
       "      <td>EN.ATM.CO2E.PC</td>\n",
       "      <td>2008</td>\n",
       "      <td>5.774522</td>\n",
       "    </tr>\n",
       "    <tr>\n",
       "      <th>4732156</th>\n",
       "      <td>France</td>\n",
       "      <td>FRA</td>\n",
       "      <td>CO2 emissions (metric tons per capita)</td>\n",
       "      <td>EN.ATM.CO2E.PC</td>\n",
       "      <td>2009</td>\n",
       "      <td>5.511405</td>\n",
       "    </tr>\n",
       "    <tr>\n",
       "      <th>4914259</th>\n",
       "      <td>France</td>\n",
       "      <td>FRA</td>\n",
       "      <td>CO2 emissions (metric tons per capita)</td>\n",
       "      <td>EN.ATM.CO2E.PC</td>\n",
       "      <td>2010</td>\n",
       "      <td>5.496707</td>\n",
       "    </tr>\n",
       "    <tr>\n",
       "      <th>5096858</th>\n",
       "      <td>France</td>\n",
       "      <td>FRA</td>\n",
       "      <td>CO2 emissions (metric tons per capita)</td>\n",
       "      <td>EN.ATM.CO2E.PC</td>\n",
       "      <td>2011</td>\n",
       "      <td>5.185043</td>\n",
       "    </tr>\n",
       "  </tbody>\n",
       "</table>\n",
       "</div>"
      ],
      "text/plain": [
       "        CountryName CountryCode                           IndicatorName  \\\n",
       "9579         France         FRA  CO2 emissions (metric tons per capita)   \n",
       "34236        France         FRA  CO2 emissions (metric tons per capita)   \n",
       "61648        France         FRA  CO2 emissions (metric tons per capita)   \n",
       "90090        France         FRA  CO2 emissions (metric tons per capita)   \n",
       "118822       France         FRA  CO2 emissions (metric tons per capita)   \n",
       "149254       France         FRA  CO2 emissions (metric tons per capita)   \n",
       "180978       France         FRA  CO2 emissions (metric tons per capita)   \n",
       "212808       France         FRA  CO2 emissions (metric tons per capita)   \n",
       "245426       France         FRA  CO2 emissions (metric tons per capita)   \n",
       "278185       France         FRA  CO2 emissions (metric tons per capita)   \n",
       "323298       France         FRA  CO2 emissions (metric tons per capita)   \n",
       "387856       France         FRA  CO2 emissions (metric tons per capita)   \n",
       "456806       France         FRA  CO2 emissions (metric tons per capita)   \n",
       "526625       France         FRA  CO2 emissions (metric tons per capita)   \n",
       "596424       France         FRA  CO2 emissions (metric tons per capita)   \n",
       "667457       France         FRA  CO2 emissions (metric tons per capita)   \n",
       "740246       France         FRA  CO2 emissions (metric tons per capita)   \n",
       "814568       France         FRA  CO2 emissions (metric tons per capita)   \n",
       "890019       France         FRA  CO2 emissions (metric tons per capita)   \n",
       "965839       France         FRA  CO2 emissions (metric tons per capita)   \n",
       "1044132      France         FRA  CO2 emissions (metric tons per capita)   \n",
       "1127206      France         FRA  CO2 emissions (metric tons per capita)   \n",
       "1211791      France         FRA  CO2 emissions (metric tons per capita)   \n",
       "1296969      France         FRA  CO2 emissions (metric tons per capita)   \n",
       "1382598      France         FRA  CO2 emissions (metric tons per capita)   \n",
       "1469101      France         FRA  CO2 emissions (metric tons per capita)   \n",
       "1556713      France         FRA  CO2 emissions (metric tons per capita)   \n",
       "1645238      France         FRA  CO2 emissions (metric tons per capita)   \n",
       "1734410      France         FRA  CO2 emissions (metric tons per capita)   \n",
       "1825390      France         FRA  CO2 emissions (metric tons per capita)   \n",
       "1928131      France         FRA  CO2 emissions (metric tons per capita)   \n",
       "2045196      France         FRA  CO2 emissions (metric tons per capita)   \n",
       "2162741      France         FRA  CO2 emissions (metric tons per capita)   \n",
       "2285589      France         FRA  CO2 emissions (metric tons per capita)   \n",
       "2410414      France         FRA  CO2 emissions (metric tons per capita)   \n",
       "2539511      France         FRA  CO2 emissions (metric tons per capita)   \n",
       "2674449      France         FRA  CO2 emissions (metric tons per capita)   \n",
       "2809885      France         FRA  CO2 emissions (metric tons per capita)   \n",
       "2946672      France         FRA  CO2 emissions (metric tons per capita)   \n",
       "3085547      France         FRA  CO2 emissions (metric tons per capita)   \n",
       "3233057      France         FRA  CO2 emissions (metric tons per capita)   \n",
       "3385758      France         FRA  CO2 emissions (metric tons per capita)   \n",
       "3537973      France         FRA  CO2 emissions (metric tons per capita)   \n",
       "3692294      France         FRA  CO2 emissions (metric tons per capita)   \n",
       "3847343      France         FRA  CO2 emissions (metric tons per capita)   \n",
       "4014836      France         FRA  CO2 emissions (metric tons per capita)   \n",
       "4193780      France         FRA  CO2 emissions (metric tons per capita)   \n",
       "4372463      France         FRA  CO2 emissions (metric tons per capita)   \n",
       "4552798      France         FRA  CO2 emissions (metric tons per capita)   \n",
       "4732156      France         FRA  CO2 emissions (metric tons per capita)   \n",
       "4914259      France         FRA  CO2 emissions (metric tons per capita)   \n",
       "5096858      France         FRA  CO2 emissions (metric tons per capita)   \n",
       "\n",
       "          IndicatorCode  Year     Value  \n",
       "9579     EN.ATM.CO2E.PC  1960  5.793508  \n",
       "34236    EN.ATM.CO2E.PC  1961  5.927130  \n",
       "61648    EN.ATM.CO2E.PC  1962  6.207578  \n",
       "90090    EN.ATM.CO2E.PC  1963  6.844150  \n",
       "118822   EN.ATM.CO2E.PC  1964  6.982957  \n",
       "149254   EN.ATM.CO2E.PC  1965  7.033702  \n",
       "180978   EN.ATM.CO2E.PC  1966  6.874765  \n",
       "212808   EN.ATM.CO2E.PC  1967  7.306422  \n",
       "245426   EN.ATM.CO2E.PC  1968  7.501194  \n",
       "278185   EN.ATM.CO2E.PC  1969  8.002979  \n",
       "323298   EN.ATM.CO2E.PC  1970  8.436868  \n",
       "387856   EN.ATM.CO2E.PC  1971  8.811560  \n",
       "456806   EN.ATM.CO2E.PC  1972  9.077342  \n",
       "526625   EN.ATM.CO2E.PC  1973  9.666681  \n",
       "596424   EN.ATM.CO2E.PC  1974  9.262231  \n",
       "667457   EN.ATM.CO2E.PC  1975  8.237753  \n",
       "740246   EN.ATM.CO2E.PC  1976  9.270049  \n",
       "814568   EN.ATM.CO2E.PC  1977  8.780464  \n",
       "890019   EN.ATM.CO2E.PC  1978  9.206144  \n",
       "965839   EN.ATM.CO2E.PC  1979  9.598218  \n",
       "1044132  EN.ATM.CO2E.PC  1980  9.131854  \n",
       "1127206  EN.ATM.CO2E.PC  1981  8.180155  \n",
       "1211791  EN.ATM.CO2E.PC  1982  7.821405  \n",
       "1296969  EN.ATM.CO2E.PC  1983  7.525488  \n",
       "1382598  EN.ATM.CO2E.PC  1984  7.177923  \n",
       "1469101  EN.ATM.CO2E.PC  1985  7.058284  \n",
       "1556713  EN.ATM.CO2E.PC  1986  6.749453  \n",
       "1645238  EN.ATM.CO2E.PC  1987  6.567066  \n",
       "1734410  EN.ATM.CO2E.PC  1988  6.435520  \n",
       "1825390  EN.ATM.CO2E.PC  1989  6.714181  \n",
       "1928131  EN.ATM.CO2E.PC  1990  6.419668  \n",
       "2045196  EN.ATM.CO2E.PC  1991  6.670624  \n",
       "2162741  EN.ATM.CO2E.PC  1992  6.216013  \n",
       "2285589  EN.ATM.CO2E.PC  1993  6.088322  \n",
       "2410414  EN.ATM.CO2E.PC  1994  5.698799  \n",
       "2539511  EN.ATM.CO2E.PC  1995  5.863379  \n",
       "2674449  EN.ATM.CO2E.PC  1996  6.280524  \n",
       "2809885  EN.ATM.CO2E.PC  1997  5.861895  \n",
       "2946672  EN.ATM.CO2E.PC  1998  6.344928  \n",
       "3085547  EN.ATM.CO2E.PC  1999  6.173260  \n",
       "3233057  EN.ATM.CO2E.PC  2000  5.976826  \n",
       "3385758  EN.ATM.CO2E.PC  2001  6.212048  \n",
       "3537973  EN.ATM.CO2E.PC  2002  6.131022  \n",
       "3692294  EN.ATM.CO2E.PC  2003  6.206665  \n",
       "3847343  EN.ATM.CO2E.PC  2004  6.194114  \n",
       "4014836  EN.ATM.CO2E.PC  2005  6.181610  \n",
       "4193780  EN.ATM.CO2E.PC  2006  5.995894  \n",
       "4372463  EN.ATM.CO2E.PC  2007  5.856547  \n",
       "4552798  EN.ATM.CO2E.PC  2008  5.774522  \n",
       "4732156  EN.ATM.CO2E.PC  2009  5.511405  \n",
       "4914259  EN.ATM.CO2E.PC  2010  5.496707  \n",
       "5096858  EN.ATM.CO2E.PC  2011  5.185043  "
      ]
     },
     "execution_count": 72,
     "metadata": {},
     "output_type": "execute_result"
    }
   ],
   "source": [
    "#Générez un dataframe extrait du dataframe initial \n",
    "#restreint aux données relatives aux émissions de CO2\n",
    "# par habitant en France.\n",
    "f1=df[(df['CountryName']=='France') & (df['IndicatorName']=='CO2 emissions (metric tons per capita)')]\n",
    "f1"
   ]
  },
  {
   "cell_type": "code",
   "execution_count": 73,
   "metadata": {},
   "outputs": [
    {
     "data": {
      "text/plain": [
       "52"
      ]
     },
     "execution_count": 73,
     "metadata": {},
     "output_type": "execute_result"
    }
   ],
   "source": [
    "#Combien ce dataframe contient-il d'enregistrements ?\n",
    "len(f1)"
   ]
  },
  {
   "cell_type": "code",
   "execution_count": 74,
   "metadata": {},
   "outputs": [
    {
     "name": "stdout",
     "output_type": "stream",
     "text": [
      "9.66668052611929 5.18504342392799\n",
      "7.010054607778613 1.2471133088641029\n"
     ]
    }
   ],
   "source": [
    "#Donnez les statistiques suivantes sur ces données (moyenne, écart-type, médiane, minimum, maximum)\n",
    "max=f1['Value'].max()\n",
    "min=f1['Value'].min()\n",
    "mean=f1['Value'].mean()\n",
    "std=f1['Value'].std()\n",
    "print(max,min)\n",
    "print(mean,std)"
   ]
  },
  {
   "cell_type": "code",
   "execution_count": 75,
   "metadata": {},
   "outputs": [
    {
     "data": {
      "text/plain": [
       "526625    1973\n",
       "Name: Year, dtype: int64"
      ]
     },
     "execution_count": 75,
     "metadata": {},
     "output_type": "execute_result"
    }
   ],
   "source": [
    "#En quelle année a-t-on pu observer la plus\n",
    "#forte valeur d'émission de CO2 par habitant en France ?\n",
    "df['Year'][df['Value']==max]"
   ]
  },
  {
   "cell_type": "code",
   "execution_count": 76,
   "metadata": {},
   "outputs": [
    {
     "data": {
      "text/html": [
       "<div>\n",
       "<style scoped>\n",
       "    .dataframe tbody tr th:only-of-type {\n",
       "        vertical-align: middle;\n",
       "    }\n",
       "\n",
       "    .dataframe tbody tr th {\n",
       "        vertical-align: top;\n",
       "    }\n",
       "\n",
       "    .dataframe thead th {\n",
       "        text-align: right;\n",
       "    }\n",
       "</style>\n",
       "<table border=\"1\" class=\"dataframe\">\n",
       "  <thead>\n",
       "    <tr style=\"text-align: right;\">\n",
       "      <th></th>\n",
       "      <th>CountryName</th>\n",
       "      <th>CountryCode</th>\n",
       "      <th>IndicatorName</th>\n",
       "      <th>IndicatorCode</th>\n",
       "      <th>Year</th>\n",
       "      <th>Value</th>\n",
       "    </tr>\n",
       "  </thead>\n",
       "  <tbody>\n",
       "  </tbody>\n",
       "</table>\n",
       "</div>"
      ],
      "text/plain": [
       "Empty DataFrame\n",
       "Columns: [CountryName, CountryCode, IndicatorName, IndicatorCode, Year, Value]\n",
       "Index: []"
      ]
     },
     "execution_count": 76,
     "metadata": {},
     "output_type": "execute_result"
    }
   ],
   "source": [
    "#Générez un dataframe restreint aux données de la France, \n",
    "#extrait du dataframe initial et ayant les caractéristiques suivantes :\n",
    "#Le dataframe contient trois colonnes nommées respectivement Année, CO2 et PIB\n",
    "#Ce dataframe possède un enregistrement par année\n",
    "#Pour chaque enregistrement les colonnes CO2 et PIB contiennent les valeurs \n",
    "#respectivement associées aux indicateurs 'CO2 emission per capita' et\n",
    "# 'GPB per capita' pour l'année correspondante.\n",
    "\n",
    "df_france=df[df['IndicatorName']=='France'] #Récupére le dataframe telle que IndicatorName est la France\n",
    "#df_france.columns=['Année','CO2','PIB']\n",
    "\n",
    "df_france\n",
    "\n",
    "\n"
   ]
  }
 ],
 "metadata": {
  "kernelspec": {
   "display_name": "base",
   "language": "python",
   "name": "python3"
  },
  "language_info": {
   "codemirror_mode": {
    "name": "ipython",
    "version": 3
   },
   "file_extension": ".py",
   "mimetype": "text/x-python",
   "name": "python",
   "nbconvert_exporter": "python",
   "pygments_lexer": "ipython3",
   "version": "3.11.4"
  }
 },
 "nbformat": 4,
 "nbformat_minor": 2
}
