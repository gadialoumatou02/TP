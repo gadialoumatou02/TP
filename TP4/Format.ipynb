{
 "cells": [
  {
   "cell_type": "markdown",
   "metadata": {},
   "source": [
    "# Format de données\n",
    "\n",
    "Dans ce TP, nous allons mettre en œuvre les fonctionnalités liées aux fichiers pour écrire des fonctions de sauvegarde et de chargement de données dans différents formats.\n",
    "\n",
    "## Travail préliminaire\n",
    "\n",
    "Dans un travail préliminaire, il vous est demandé de produire un code permettant de transformer un structure de données de type dictionnaire où les valeurs associées à chaque clé $k$ sont des listes $l_k$ de même taille $n$, en une liste de taille $n$ dont tous les éléments sont des dictionnaires de clés $k$ et pour lesquelles les valeurs associées sont les différentes valeurs des listes $l_k$.\n",
    "\n",
    "Ainsi votre code devra par exemple être capable de transformer la structure suivante :\n",
    "\n",
    "    {\"colonne 1\":[12, 36, 32], \"colonne 2\":[25.4, 78.2, 46.2], \"colonne 3\":['A', 'B', 'C']}\n",
    "    \n",
    "en la structure de données suivante :\n",
    "\n",
    "    [\n",
    "        {\"colonne 1\":12, \"colonne 2\":25.4, \"colonne 3\":'A'},\n",
    "        {\"colonne 1\":36, \"colonne 2\":78.2, \"colonne 3\":'B'},\n",
    "        {\"colonne 1\":32, \"colonne 2\":46.2, \"colonne 3\":'C'}\n",
    "    ]\n",
    "    \n",
    "Il devra également être opérant sur la structure de donnée suivante :\n",
    "\n",
    "   {\"Nom\": ['Shannon', 'Turing', 'Love lace'], \"Prénom\":['Claude', 'Alan', 'Ada']}\n",
    "    \n",
    "pour la transformer en \n",
    "    \n",
    "    [\n",
    "        {\"Nom\":'Shannon', \"Prénom\":'Claude'},\n",
    "        {\"Nom\":'Turing', \"Prénom\":'Alan'},\n",
    "        {\"Nom\":'Lovelace', \"Prénom\":'Ada'}\n",
    "    ]\n"
   ]
  },
  {
   "cell_type": "code",
   "execution_count": 1,
   "metadata": {},
   "outputs": [
    {
     "name": "stdout",
     "output_type": "stream",
     "text": [
      "[{'colonne 1': 12, 'colonne 2': 25.4, 'colonne 3': 'A'}, {'colonne 1': 36, 'colonne 2': 78.2, 'colonne 3': 'B'}, {'colonne 1': 32, 'colonne 2': 46.2, 'colonne 3': 'C'}]\n",
      "[{'Nom': 'Shannon', 'Prénom': 'Claude'}, {'Nom': 'Turing', 'Prénom': 'Alan'}]\n"
     ]
    }
   ],
   "source": [
    "import numpy as np\n",
    "def DicaList(dictionnaire):\n",
    "    keys=dictionnaire.keys()\n",
    "    liste=[]\n",
    "    for i in range(len(keys)):\n",
    "        element={}\n",
    "        for key in keys:\n",
    "            element[key]= dictionnaire[key][i]\n",
    "        liste.append(element)\n",
    "    return liste\n",
    "\n",
    "    \n",
    "#test\n",
    "dictionnaire={\"colonne 1\":[12, 36, 32], \"colonne 2\":[25.4, 78.2, 46.2], \"colonne 3\":['A', 'B', 'C']}\n",
    "dictionnaire1={\"Nom\": ['Shannon', 'Turing', 'Love lace'], \"Prénom\":['Claude', 'Alan', 'Ada']}\n",
    "print(DicaList(dictionnaire))\n",
    "print(DicaList(dictionnaire1))"
   ]
  },
  {
   "cell_type": "code",
   "execution_count": 2,
   "metadata": {},
   "outputs": [],
   "source": [
    "#Par compréhension de liste\n",
    "def transform(dictionnaire):\n",
    "    L=[{k:dictionnaire[k][j] for k in list(dictionnaire.keys())} for j in range(len(list(dictionnaire.values())[0]))]\n",
    "    return L"
   ]
  },
  {
   "cell_type": "code",
   "execution_count": 3,
   "metadata": {},
   "outputs": [
    {
     "name": "stdout",
     "output_type": "stream",
     "text": [
      "[{'colonne 1': 12, 'colonne 2': 25.4, 'colonne 3': 'A'}, {'colonne 1': 36, 'colonne 2': 78.2, 'colonne 3': 'B'}, {'colonne 1': 32, 'colonne 2': 46.2, 'colonne 3': 'C'}]\n"
     ]
    }
   ],
   "source": [
    "#Test\n",
    "dictionnaire={\"colonne 1\":[12, 36, 32], \"colonne 2\":[25.4, 78.2, 46.2], \"colonne 3\":['A', 'B', 'C']}\n",
    "print(transform(dictionnaire))"
   ]
  },
  {
   "cell_type": "markdown",
   "metadata": {},
   "source": []
  },
  {
   "cell_type": "markdown",
   "metadata": {},
   "source": [
    "## Le format CSV\n",
    "\n",
    "CSV est l'acronyme de *Comma Separated Values* qui signifie *valeurs séparées par des virgules*. C'est un format utilisé pour sauvegarder des données tabulaires. Il s'agit d'un format texte. La première ligne contient les intitulés (chaînes de caractères) des colonnes séparées par des virgules.\n",
    "Les lignes suivantes du fichier représentent les différents lignes du tableau de données. Au sein de chaque ligne, les valeurs correspondant aux colonnes sont séparées par des vigules.\n",
    "\n",
    "Le fichier [exemple.csv](exemple.csv) montre un exemple de fichier avec le format `.csv`.\n",
    "\n",
    "Ecrire la fonction de sauvegarde dans un fichier `.csv` pour les deux types de structures de données utilisés précédemment (dictionnaire de listes, liste de dictionnaires)."
   ]
  },
  {
   "cell_type": "code",
   "execution_count": 4,
   "metadata": {},
   "outputs": [],
   "source": [
    "from pandas import DataFrame"
   ]
  },
  {
   "cell_type": "code",
   "execution_count": 5,
   "metadata": {},
   "outputs": [],
   "source": [
    "#Pour cette question, chaque clé du dictionnaire correspond à une colonne du tableau csv \n",
    "#les éléments de la colonne sont ceux de dictionaire[clé] \n",
    "def sauvegarde(dictionnaire):\n",
    "    donnée = DataFrame(dictionnaire, columns= dictionnaire.keys())\n",
    "    donnée = donnée.to_csv('fichier.csv')"
   ]
  },
  {
   "cell_type": "code",
   "execution_count": 6,
   "metadata": {},
   "outputs": [],
   "source": [
    "#test\n",
    "dictionnaire={\"colonne 1\":[12, 36, 32], \"colonne 2\":[25.4, 78.2, 46.2], \"colonne 3\":['A', 'B', 'C']}\n",
    "sauvegarde(dictionnaire)\n",
    "#sauvegarde(dictionnaire1)"
   ]
  },
  {
   "cell_type": "code",
   "execution_count": 7,
   "metadata": {},
   "outputs": [],
   "source": [
    "def sauvegarde1(dico):\n",
    "    data = DataFrame(dico, columns= dico.keys())\n",
    "    data = data.to_csv('fichier1.csv')"
   ]
  },
  {
   "cell_type": "code",
   "execution_count": 8,
   "metadata": {},
   "outputs": [],
   "source": [
    "#test pour dictionnaire1\n",
    "dico={\"Nom\": ['Shannon', 'Turing', 'Love lace'], \"Prénom\":['Claude', 'Alan', 'Ada']}\n",
    "sauvegarde1(dico)"
   ]
  },
  {
   "cell_type": "code",
   "execution_count": 9,
   "metadata": {},
   "outputs": [],
   "source": [
    "#Résolution avec csv à la main\n",
    "import csv\n",
    "def sauvegarde2(dictionnaire):\n",
    "    with open('Notes.csv','w', newline='') as Notes:\n",
    "        writer=csv.DictWriter(Notes, list(dictionnaire.keys()))\n",
    "        writer.writeheader()\n",
    "        for i in transform(dictionnaire):\n",
    "            writer.writerow(i)\n",
    "\n",
    "#test\n",
    "dictionnaire={\"Nom\": ['Shannon', 'Turing', 'Love lace'], \"Prénom\":['Claude', 'Alan', 'Ada']}\n",
    "sauvegarde2(dictionnaire)\n"
   ]
  },
  {
   "cell_type": "code",
   "execution_count": 10,
   "metadata": {},
   "outputs": [],
   "source": [
    "#Pour une liste de dictionnaire\n",
    "def sauvegarde3(liste_dico):\n",
    "    with open('Notes1.csv','w', newline='') as Notes1:\n",
    "        writer=csv.DictWriter(Notes1, list(liste_dico[0].keys()))\n",
    "        writer.writeheader()\n",
    "        for i in liste_dico:\n",
    "            writer.writerow(i)\n"
   ]
  },
  {
   "cell_type": "code",
   "execution_count": 11,
   "metadata": {},
   "outputs": [],
   "source": [
    "liste_dico=[\n",
    "        {\"colonne 1\":12, \"colonne 2\":25.4, \"colonne 3\":'A'},\n",
    "        {\"colonne 1\":36, \"colonne 2\":78.2, \"colonne 3\":'B'},\n",
    "        {\"colonne 1\":32, \"colonne 2\":46.2, \"colonne 3\":'C'}\n",
    "    ]\n",
    "sauvegarde3(liste_dico)"
   ]
  },
  {
   "cell_type": "markdown",
   "metadata": {},
   "source": [
    "Ecrire des fonctions de chargement, c'est-à-dire de lecture des fichiers csv. \n",
    "\n",
    "Dans une version initiale, l'ensemble des données seront lues comme des chaînes de caractères. Dans une seconde version, le type de la données devra être interprété de sa syntaxe, en se limitant aux données de type chaînes de caractères et numériques."
   ]
  },
  {
   "cell_type": "code",
   "execution_count": 94,
   "metadata": {},
   "outputs": [
    {
     "name": "stdout",
     "output_type": "stream",
     "text": [
      "[['', 'colonne 1', 'colonne 2', 'colonne 3'], ['0', '12', '25.4', 'A'], ['1', '36', '78.2', 'B'], ['2', '32', '46.2', 'C']]\n"
     ]
    }
   ],
   "source": [
    "#Pour la lecture du fichier sauvegarde(dictionnaire)\n",
    "def lecture_fichier(fichier):\n",
    "    data=[]\n",
    "    with open(fichier,'r') as fichier_csv:\n",
    "        lines = fichier_csv.readlines()\n",
    "        for line in lines:\n",
    "            data.append(line.strip().split(\",\"))\n",
    "    print(data)\n",
    "\n",
    "#test\n",
    "fichier = \"fichier.csv\"\n",
    "lecture_fichier(fichier)"
   ]
  },
  {
   "cell_type": "code",
   "execution_count": 95,
   "metadata": {},
   "outputs": [
    {
     "name": "stdout",
     "output_type": "stream",
     "text": [
      "[['', 'Nom', 'Prénom'], ['0', 'Shannon', 'Claude'], ['1', 'Turing', 'Alan'], ['2', 'Love lace', 'Ada']]\n"
     ]
    }
   ],
   "source": [
    "#Pour la lecture du fichier1 sauvegarde(dictionnaire1)\n",
    "fichier = \"fichier1.csv\"\n",
    "lecture_fichier(fichier)"
   ]
  },
  {
   "cell_type": "code",
   "execution_count": 96,
   "metadata": {},
   "outputs": [
    {
     "name": "stdout",
     "output_type": "stream",
     "text": [
      "['', 'colonne 1', 'colonne 2', 'colonne 3', 0, 12, 25.4, 'A', 1, 36, 78.2, 'B', 2, 32, 46.2, 'C']\n"
     ]
    }
   ],
   "source": [
    "#Dans une seconde version, le type de la données devra être interprété de sa syntaxe,\n",
    "#en se limitant aux données de type chaînes de caractères et numériques.\n",
    "def chargement_fichier(fichier):\n",
    "    donnée=[]\n",
    "    with open(fichier,'r') as fichier_csv:\n",
    "        lines = fichier_csv.readlines()\n",
    "        for line in lines:\n",
    "            elements=line.strip().split(\",\")\n",
    "            for element in elements:\n",
    "                if element.isdecimal():\n",
    "                    element = int(element)\n",
    "                elif element.replace(\".\",\"\",1).isnumeric():\n",
    "                    element = float(element)\n",
    "                else:\n",
    "                    element = str(element)\n",
    "                donnée.append(element)\n",
    "    return donnée\n",
    "\n",
    "#Test\n",
    "fichier=\"fichier.csv\"   \n",
    "print(chargement_fichier(fichier))"
   ]
  },
  {
   "cell_type": "markdown",
   "metadata": {},
   "source": [
    "### Optionnel\n",
    "\n",
    "Ecrire les variantes suivantes : \n",
    "- La variante française dans laquelle les valeurs sont séparées par des points-virgules et la virgule est utilisée à la place du point comme séparateur entre la partie entière et la partie fractionnaire des données numériques.\n",
    "- Le format TSV (ou TAB) dans lequel le caractère de séparation des valeurs n'est ni le point, ni le point-virgule, mais la tabulation"
   ]
  },
  {
   "cell_type": "code",
   "execution_count": 114,
   "metadata": {},
   "outputs": [
    {
     "name": "stdout",
     "output_type": "stream",
     "text": [
      "[['Nom', 'Prénom', 'Valeur1', 'Valeur2'], ['NomPersonne1', 'PrenomPersonne1', '12,4', '31,2'], ['NomPersonne2', 'PrenomPersonne2', '8,3', '21,5'], ['NomPersonne3', 'PrenomPersonne3', '11,3', '14,7']]\n"
     ]
    }
   ],
   "source": [
    "#Ecrire les variantes suivantes : \n",
    "#La variante française dans laquelle les valeurs sont séparées par des points-virgules\n",
    "#et la virgule est utilisée à la place du point comme séparateur entre la partie entière\n",
    "#et la partie fractionnaire des données numériques.\n",
    "\n",
    "\n",
    "def chargement_variante_française(fichier):\n",
    "    data=[]\n",
    "    with open(fichier,'r') as fichier_csv:\n",
    "        lines = fichier_csv.readlines()\n",
    "        for line in lines:\n",
    "            data.append(line.strip().split(\";\"))\n",
    "    print(data)\n",
    "\n",
    "#test\n",
    "fichier = \"test_fr.csv\"\n",
    "chargement_variante_française(fichier)"
   ]
  },
  {
   "cell_type": "code",
   "execution_count": 116,
   "metadata": {},
   "outputs": [
    {
     "name": "stdout",
     "output_type": "stream",
     "text": [
      "[['Nom', 'Prénom', 'Valeur1', 'Valeur2'], ['NomPersonne1', 'PrenomPersonne1', '12.4', '31.2'], ['NomPersonne2', 'PrenomPersonne2', '8.3', '    21.5'], ['NomPersonne3', 'PrenomPersonne3', '11.3', '14.7']]\n"
     ]
    }
   ],
   "source": [
    "#Le format TSV (ou TAB) dans lequel le caractère de séparation \n",
    "#des valeurs n'est ni le point, ni le point-virgule, mais la tabulation\n",
    "def chargement_format_tsv(fichier):\n",
    "    data=[]\n",
    "    with open(fichier,'r') as fichier_tsv:\n",
    "        lines = fichier_tsv.readlines()\n",
    "        for line in lines:\n",
    "            data.append(line.strip().split(\"\\t\"))\n",
    "    print(data)\n",
    "\n",
    "#test\n",
    "fichier = \"test.tsv\"\n",
    "lecture_fichier(fichier)"
   ]
  },
  {
   "cell_type": "markdown",
   "metadata": {},
   "source": [
    "## JSON\n",
    "\n",
    "Le format JSON (pour *JavaScript Object Notation*) est un format léger pour l'échange de données. Il est notamment documenté sur le [site officiel](https://www.json.org/).\n",
    "\n",
    "Les objets JSON sont délimités par des accolades et contiennent des données membres. Les données membres sont des couples clés-valeurs, séparés par des virgules. Les clés sont des chaînes de caractères délimités par des guillemets `\"`. Les valeurs peuvent être des données numériques, des chaines de caractères délimitées par des guillemets `\"`, d'autres objets (comme définis précédemment) ou des tableaux. Un tableau est une liste de valeurs séparées par des virgules et délimitée par des crochets `[` et `]`.\n",
    "\n",
    "Implémentez une fonction de sauvegarde d'une structure de données de type dictionnaire au format JSON ainsi qu'une fonction de chargement. "
   ]
  },
  {
   "cell_type": "code",
   "execution_count": 74,
   "metadata": {},
   "outputs": [],
   "source": [
    "def sauvegarde_json(dictionnaire):\n",
    "    fichier_json= \"exemple_json.json\"\n",
    "    dico_json={}\n",
    "    with open(fichier_json, 'w') as f:\n",
    "        f.write(\"{\\n\")\n",
    "        def render(string : str):\n",
    "            if string.isalpha() :\n",
    "                return f\"\\\"{string}\\\"\"\n",
    "            else:\n",
    "                return string\n",
    "            \n",
    "        for idx, d in enumerate(dictionnaire.items()):\n",
    "            if type(d[1]) == list:\n",
    "              listv = \"[\"\n",
    "              for id, i in enumerate(d[1]):\n",
    "                  listv += render(str(i)) +  (\"\"  if id == len(d[1])-1 else \",\" )\n",
    "              listv += \"]\"\n",
    "              f.write(\"\\t \\\"\" + d[0] + \"\\\":\" + listv + (\"\"  if idx == len(dictionnaire)-1 else \",\\n\" ))\n",
    "            else: \n",
    "                f.write(\"\\t \\\"\" + d[0] + \"\\\":\\\"\" + d[1] + (\"\\\"\"  if idx == len(dictionnaire)-1 else \"\\\",\\n\" ))\n",
    "        f.write(\"\\n}\")\n",
    "\n",
    "#test\n",
    "dictionnaire={\"colonne 1\":[12, 36, 32], \n",
    "              \"colonne 2\":[25.4, 78.2, 46.2],\n",
    "                \"colonne 3\":['A', 'B', 'C']}\n",
    "sauvegarde_json(dictionnaire)"
   ]
  },
  {
   "cell_type": "markdown",
   "metadata": {},
   "source": [
    "Prenez en main le module `json` de python qui permet aisément la sauvegarde via la méthode `json.dump()` et le chargement via la méthode `json.load()` ou `json.loads()`."
   ]
  },
  {
   "cell_type": "code",
   "execution_count": 124,
   "metadata": {},
   "outputs": [],
   "source": [
    "#code de la sauvegarde via la méthode `json.dump()`\n",
    "import json\n",
    "def save_json(dictionnaire):\n",
    "    fichier_json = \"fichier_json.json\"\n",
    "    with open(fichier_json, 'w') as f:\n",
    "        json.dump(dictionnaire,f)\n",
    "\n",
    "#test\n",
    "dictionnaire={\"colonne 1\":[12, 36, 32], \n",
    "              \"colonne 2\":[25.4, 78.2, 46.2], \"colonne 3\":['A', 'B', 'C']}\n",
    "save_json(dictionnaire)\n"
   ]
  },
  {
   "cell_type": "code",
   "execution_count": 134,
   "metadata": {},
   "outputs": [
    {
     "name": "stdout",
     "output_type": "stream",
     "text": [
      "{'colonne 1': [12, 36, 32], 'colonne 2': [25.4, 78.2, 46.2], 'colonne 3': ['A', 'B', 'C']}\n"
     ]
    }
   ],
   "source": [
    "#code de la lecture d'un fichier json avec json.load() ou json.loads()\n",
    "\n",
    "def read_json(fichier_json):\n",
    "    with open(fichier_json, 'r') as f:\n",
    "        data=json.load(f)\n",
    "    print(data)\n",
    "\n",
    "#test\n",
    "fichier_json=\"exemple_json.json\"\n",
    "read_json(fichier_json)"
   ]
  }
 ],
 "metadata": {
  "kernelspec": {
   "display_name": "Python 3",
   "language": "python",
   "name": "python3"
  },
  "language_info": {
   "codemirror_mode": {
    "name": "ipython",
    "version": 3
   },
   "file_extension": ".py",
   "mimetype": "text/x-python",
   "name": "python",
   "nbconvert_exporter": "python",
   "pygments_lexer": "ipython3",
   "version": "3.11.4"
  }
 },
 "nbformat": 4,
 "nbformat_minor": 4
}
