{
 "cells": [
  {
   "cell_type": "markdown",
   "metadata": {},
   "source": [
    "# Classification ascendante hiérarchique"
   ]
  },
  {
   "cell_type": "markdown",
   "metadata": {},
   "source": [
    "## Import des bibliothèques"
   ]
  },
  {
   "cell_type": "code",
   "execution_count": 3,
   "metadata": {},
   "outputs": [],
   "source": [
    "import numpy as np\n",
    "from sklearn.datasets import make_blobs\n",
    "import matplotlib.pyplot as plt\n",
    "import pandas as pd"
   ]
  },
  {
   "cell_type": "markdown",
   "metadata": {},
   "source": [
    "Implantez une fonction renvoyant la distance euclidienne entre deux points. Ces points devront être de même dimension. Ils pourront être implanté comme une liste, un tuple, un tableau numpy unidirectionnel ou une Series."
   ]
  },
  {
   "cell_type": "code",
   "execution_count": 8,
   "metadata": {},
   "outputs": [],
   "source": [
    "def distance1(p1,p2):\n",
    "    p1=np.array(p1)\n",
    "    p2=np.array(p2)\n",
    "    return np.sum(np.sqrt(((p2-p1)**2)))"
   ]
  },
  {
   "cell_type": "code",
   "execution_count": 9,
   "metadata": {},
   "outputs": [
    {
     "name": "stdout",
     "output_type": "stream",
     "text": [
      "2.0\n",
      "3.0\n"
     ]
    }
   ],
   "source": [
    "print(distance1([2,3],(4,3)))\n",
    "print(distance1(pd.Series([1,2,3]),np.array([2,3,4])))"
   ]
  },
  {
   "cell_type": "markdown",
   "metadata": {},
   "source": [
    "Exécutez la cellule suivante"
   ]
  },
  {
   "cell_type": "code",
   "execution_count": null,
   "metadata": {},
   "outputs": [],
   "source": [
    "n_samples = 40\n",
    "X, Y = make_blobs(n_samples = n_samples)\n",
    "print(X)\n",
    "print(Y)\n",
    "X = pd.DataFrame(X, columns = ['abscisse','ordonnée'])\n",
    "plt.figure()\n",
    "plt.scatter(X['abscisse'],X['ordonnée'])"
   ]
  },
  {
   "cell_type": "markdown",
   "metadata": {},
   "source": [
    "Etudiez l'aide de la fonction `make_blobs`. Puis faites varier les paramètres `n_spamples` et `centers` pour visualiser leur effets."
   ]
  },
  {
   "cell_type": "markdown",
   "metadata": {},
   "source": [
    "Nous allons implanter l'algorithme de classification ascendante hiérarchique petit à petit"
   ]
  },
  {
   "cell_type": "markdown",
   "metadata": {},
   "source": [
    "Une partition est une répartition des points dans des groupes. Les groupes seront implantés par des listes. La partition est elle-même une liste des groupes.\n",
    "\n",
    "Commencer par initialiser une partition (liste) dont les groupes (listes) contiendront chacun un des points de `X`. "
   ]
  },
  {
   "cell_type": "code",
   "execution_count": null,
   "metadata": {},
   "outputs": [],
   "source": [
    "make_blobs?"
   ]
  },
  {
   "cell_type": "code",
   "execution_count": null,
   "metadata": {},
   "outputs": [],
   "source": [
    "partition=[[i] for i in X.to_numpy()]\n",
    "partition"
   ]
  },
  {
   "cell_type": "markdown",
   "metadata": {},
   "source": [
    "Implantez la fonction `single_link_distance` qui, prenant deux groupes `g1` et `g2` en paramètres, renvoie la plus petite distance entre un élément de `g1` et un élément de `g2`."
   ]
  },
  {
   "cell_type": "code",
   "execution_count": 13,
   "metadata": {},
   "outputs": [],
   "source": [
    "#single_link_distance calcule les distances entre 2 pts de chaque goupe puis garde la distance minimale\n",
    "def single_link_distance(g1,g2):\n",
    "    return min([distance1(i,j)for i in g1 for j in g2])"
   ]
  },
  {
   "cell_type": "markdown",
   "metadata": {},
   "source": [
    "Donnez l'instruction ou la séquence d'instructions qui, considérant une partition (ensemble de groupes), produit un dictionnaire dans lequel la clé est la distance (single_link_distance) entre deux groupes et la valeur associée est le tuple des indices des deux groupes entre lesquels cette distance est calculée."
   ]
  },
  {
   "cell_type": "code",
   "execution_count": null,
   "metadata": {},
   "outputs": [],
   "source": [
    "group_distances={distance1(partition[i],partition[j]):(i,j) for i in range(len(partition)) for j in range(i+1,len(partition))}\n",
    "group_distances"
   ]
  },
  {
   "cell_type": "markdown",
   "metadata": {},
   "source": [
    "Considérant le dictionnaire précédent, donnez l'instruction ou la suite d'instructions qui renvoie l'indice des deux groupes les plus proches"
   ]
  },
  {
   "cell_type": "code",
   "execution_count": 15,
   "metadata": {},
   "outputs": [],
   "source": [
    "group_fusion=group_distances[min(group_distances)]"
   ]
  },
  {
   "cell_type": "markdown",
   "metadata": {},
   "source": [
    "Produisez une nouvelle partition en :\n",
    "1. dupliquant la partition courante\n",
    "1. lui retirant les deux groupes les plus proches\n",
    "1. lui ajoutant la fusion des deux groupes "
   ]
  },
  {
   "cell_type": "code",
   "execution_count": null,
   "metadata": {},
   "outputs": [],
   "source": [
    "new_partition=partition.copy()\n",
    "new_group=partition[group_fusion[0]]+partition[group_fusion[1]]\n",
    "new_partition.pop(group_fusion[1])\n",
    "new_partition.pop(group_fusion[0])\n",
    "new_partition.append(new_group)\n",
    "new_partition"
   ]
  },
  {
   "cell_type": "markdown",
   "metadata": {},
   "source": [
    "Itérez sur le traitement précédent en partant de la partition initiale dans laquel chaque groupe contient un unique élément, jusqu'à ce que la partition ne contienne plus qu'un seul groupe. Ajoutez chaque partition produite à une liste `partitions`."
   ]
  },
  {
   "cell_type": "code",
   "execution_count": null,
   "metadata": {},
   "outputs": [],
   "source": [
    "partitions=[partition]\n",
    "while len(partition)>1:\n",
    "    group_distances={single_link_distance(partition[i],partition[j]):(i,j) for i in range(len(partition)) for j in range(i+1,len(partition))}\n",
    "    group_fusion=group_distances[min(group_distances)]\n",
    "    new_partition=partition.copy()\n",
    "    new_group=partition[group_fusion[0]]+partition[group_fusion[1]]\n",
    "    new_partition.pop(group_fusion[1])\n",
    "    new_partition.pop(group_fusion[0])\n",
    "    new_partition.append(new_group)\n",
    "    partition=new_partition\n",
    "    partitions.append(partition)\n",
    "\n",
    "print(partitions)    \n"
   ]
  },
  {
   "cell_type": "markdown",
   "metadata": {},
   "source": [
    "Visualisez les différentes partitions avec le code suivant."
   ]
  },
  {
   "cell_type": "code",
   "execution_count": null,
   "metadata": {},
   "outputs": [],
   "source": [
    "for p in partitions:\n",
    "    plt.figure()\n",
    "    for g in p:\n",
    "        plt.scatter([x[0] for x in g],[x[1] for x in g])"
   ]
  },
  {
   "cell_type": "markdown",
   "metadata": {},
   "source": [
    "Intégrer la production de la séquence de partitions dans une fonction `CAH` recevant la liste des points."
   ]
  },
  {
   "cell_type": "code",
   "execution_count": 42,
   "metadata": {},
   "outputs": [],
   "source": [
    "def integration_liste(n_samples):\n",
    "    A,B = make_blobs(n_samples = n_samples)\n",
    "    A= pd.DataFrame(A, columns = ['abscisse','ordonnée'])\n",
    "    partition=[[i] for i in A.to_numpy()]\n",
    "    partitions=[partition]\n",
    "    while len(partition)>1:\n",
    "        group_distances={single_link_distance(partition[i],partition[j]):(i,j) for i in range(len(partition)) for j in range(i+1,len(partition))}\n",
    "        group_fusion=group_distances[min(group_distances)]\n",
    "        new_partition=partition.copy()\n",
    "        new_group=partition[group_fusion[0]]+partition[group_fusion[1]]\n",
    "        new_partition.pop(group_fusion[1])\n",
    "        new_partition.pop(group_fusion[0])\n",
    "        new_partition.append(new_group)\n",
    "        partition=new_partition\n",
    "        partitions.append(partition)\n",
    "    return partitions\n"
   ]
  },
  {
   "cell_type": "code",
   "execution_count": 43,
   "metadata": {},
   "outputs": [
    {
     "name": "stdout",
     "output_type": "stream",
     "text": [
      "[[[array([-1.68362377, -3.65172014])], [array([-5.00287684,  5.78378188])], [array([ 5.43146015, -4.63716234])], [array([ 7.72242077, -7.03874246])], [array([-4.23730235,  7.250212  ])], [array([-3.79391947, -3.61878353])], [array([-1.11216964, -3.25478377])], [array([ 5.26940679, -5.05995486])], [array([ 7.67889605, -5.9433405 ])], [array([-0.22218552, -5.27954892])], [array([ 7.44233398, -6.27107334])], [array([-5.32649731,  5.97575138])], [array([ 8.88980908, -6.08292813])], [array([ 6.85313675, -3.9548028 ])], [array([-4.3387432 ,  4.86629916])], [array([-4.21975393, -4.90807072])], [array([-6.50105949,  4.84597443])], [array([-2.72167033, -3.62109064])], [array([-3.18673913, -4.604478  ])], [array([-5.63613831,  5.45071874])], [array([ 6.99190762, -5.21484874])], [array([-1.37517665, -4.13234736])], [array([-7.11058673,  5.80834876])], [array([ 5.91815995, -5.10783328])], [array([-6.33118166,  5.33565931])]], [[array([-1.68362377, -3.65172014])], [array([ 5.43146015, -4.63716234])], [array([ 7.72242077, -7.03874246])], [array([-4.23730235,  7.250212  ])], [array([-3.79391947, -3.61878353])], [array([-1.11216964, -3.25478377])], [array([ 5.26940679, -5.05995486])], [array([ 7.67889605, -5.9433405 ])], [array([-0.22218552, -5.27954892])], [array([ 7.44233398, -6.27107334])], [array([ 8.88980908, -6.08292813])], [array([ 6.85313675, -3.9548028 ])], [array([-4.3387432 ,  4.86629916])], [array([-4.21975393, -4.90807072])], [array([-6.50105949,  4.84597443])], [array([-2.72167033, -3.62109064])], [array([-3.18673913, -4.604478  ])], [array([-5.63613831,  5.45071874])], [array([ 6.99190762, -5.21484874])], [array([-1.37517665, -4.13234736])], [array([-7.11058673,  5.80834876])], [array([ 5.91815995, -5.10783328])], [array([-6.33118166,  5.33565931])], [array([-5.00287684,  5.78378188]), array([-5.32649731,  5.97575138])]], [[array([-1.68362377, -3.65172014])], [array([ 5.43146015, -4.63716234])], [array([ 7.72242077, -7.03874246])], [array([-4.23730235,  7.250212  ])], [array([-3.79391947, -3.61878353])], [array([-1.11216964, -3.25478377])], [array([ 5.26940679, -5.05995486])], [array([-0.22218552, -5.27954892])], [array([ 8.88980908, -6.08292813])], [array([ 6.85313675, -3.9548028 ])], [array([-4.3387432 ,  4.86629916])], [array([-4.21975393, -4.90807072])], [array([-6.50105949,  4.84597443])], [array([-2.72167033, -3.62109064])], [array([-3.18673913, -4.604478  ])], [array([-5.63613831,  5.45071874])], [array([ 6.99190762, -5.21484874])], [array([-1.37517665, -4.13234736])], [array([-7.11058673,  5.80834876])], [array([ 5.91815995, -5.10783328])], [array([-6.33118166,  5.33565931])], [array([-5.00287684,  5.78378188]), array([-5.32649731,  5.97575138])], [array([ 7.67889605, -5.9433405 ]), array([ 7.44233398, -6.27107334])]], [[array([-1.68362377, -3.65172014])], [array([ 7.72242077, -7.03874246])], [array([-4.23730235,  7.250212  ])], [array([-3.79391947, -3.61878353])], [array([-1.11216964, -3.25478377])], [array([-0.22218552, -5.27954892])], [array([ 8.88980908, -6.08292813])], [array([ 6.85313675, -3.9548028 ])], [array([-4.3387432 ,  4.86629916])], [array([-4.21975393, -4.90807072])], [array([-6.50105949,  4.84597443])], [array([-2.72167033, -3.62109064])], [array([-3.18673913, -4.604478  ])], [array([-5.63613831,  5.45071874])], [array([ 6.99190762, -5.21484874])], [array([-1.37517665, -4.13234736])], [array([-7.11058673,  5.80834876])], [array([ 5.91815995, -5.10783328])], [array([-6.33118166,  5.33565931])], [array([-5.00287684,  5.78378188]), array([-5.32649731,  5.97575138])], [array([ 7.67889605, -5.9433405 ]), array([ 7.44233398, -6.27107334])], [array([ 5.43146015, -4.63716234]), array([ 5.26940679, -5.05995486])]], [[array([-1.68362377, -3.65172014])], [array([ 7.72242077, -7.03874246])], [array([-4.23730235,  7.250212  ])], [array([-3.79391947, -3.61878353])], [array([-1.11216964, -3.25478377])], [array([-0.22218552, -5.27954892])], [array([ 8.88980908, -6.08292813])], [array([ 6.85313675, -3.9548028 ])], [array([-4.3387432 ,  4.86629916])], [array([-4.21975393, -4.90807072])], [array([-2.72167033, -3.62109064])], [array([-3.18673913, -4.604478  ])], [array([-5.63613831,  5.45071874])], [array([ 6.99190762, -5.21484874])], [array([-1.37517665, -4.13234736])], [array([-7.11058673,  5.80834876])], [array([ 5.91815995, -5.10783328])], [array([-5.00287684,  5.78378188]), array([-5.32649731,  5.97575138])], [array([ 7.67889605, -5.9433405 ]), array([ 7.44233398, -6.27107334])], [array([ 5.43146015, -4.63716234]), array([ 5.26940679, -5.05995486])], [array([-6.50105949,  4.84597443]), array([-6.33118166,  5.33565931])]], [[array([-1.68362377, -3.65172014])], [array([ 7.72242077, -7.03874246])], [array([-4.23730235,  7.250212  ])], [array([-3.79391947, -3.61878353])], [array([-1.11216964, -3.25478377])], [array([-0.22218552, -5.27954892])], [array([ 8.88980908, -6.08292813])], [array([ 6.85313675, -3.9548028 ])], [array([-4.3387432 ,  4.86629916])], [array([-4.21975393, -4.90807072])], [array([-2.72167033, -3.62109064])], [array([-3.18673913, -4.604478  ])], [array([-5.63613831,  5.45071874])], [array([ 6.99190762, -5.21484874])], [array([-1.37517665, -4.13234736])], [array([-7.11058673,  5.80834876])], [array([-5.00287684,  5.78378188]), array([-5.32649731,  5.97575138])], [array([ 7.67889605, -5.9433405 ]), array([ 7.44233398, -6.27107334])], [array([-6.50105949,  4.84597443]), array([-6.33118166,  5.33565931])], [array([ 5.91815995, -5.10783328]), array([ 5.43146015, -4.63716234]), array([ 5.26940679, -5.05995486])]], [[array([ 7.72242077, -7.03874246])], [array([-4.23730235,  7.250212  ])], [array([-3.79391947, -3.61878353])], [array([-1.11216964, -3.25478377])], [array([-0.22218552, -5.27954892])], [array([ 8.88980908, -6.08292813])], [array([ 6.85313675, -3.9548028 ])], [array([-4.3387432 ,  4.86629916])], [array([-4.21975393, -4.90807072])], [array([-2.72167033, -3.62109064])], [array([-3.18673913, -4.604478  ])], [array([-5.63613831,  5.45071874])], [array([ 6.99190762, -5.21484874])], [array([-7.11058673,  5.80834876])], [array([-5.00287684,  5.78378188]), array([-5.32649731,  5.97575138])], [array([ 7.67889605, -5.9433405 ]), array([ 7.44233398, -6.27107334])], [array([-6.50105949,  4.84597443]), array([-6.33118166,  5.33565931])], [array([ 5.91815995, -5.10783328]), array([ 5.43146015, -4.63716234]), array([ 5.26940679, -5.05995486])], [array([-1.68362377, -3.65172014]), array([-1.37517665, -4.13234736])]], [[array([ 7.72242077, -7.03874246])], [array([-4.23730235,  7.250212  ])], [array([-3.79391947, -3.61878353])], [array([-1.11216964, -3.25478377])], [array([-0.22218552, -5.27954892])], [array([ 8.88980908, -6.08292813])], [array([ 6.85313675, -3.9548028 ])], [array([-4.3387432 ,  4.86629916])], [array([-4.21975393, -4.90807072])], [array([-2.72167033, -3.62109064])], [array([-3.18673913, -4.604478  ])], [array([ 6.99190762, -5.21484874])], [array([-7.11058673,  5.80834876])], [array([-5.00287684,  5.78378188]), array([-5.32649731,  5.97575138])], [array([ 7.67889605, -5.9433405 ]), array([ 7.44233398, -6.27107334])], [array([ 5.91815995, -5.10783328]), array([ 5.43146015, -4.63716234]), array([ 5.26940679, -5.05995486])], [array([-1.68362377, -3.65172014]), array([-1.37517665, -4.13234736])], [array([-5.63613831,  5.45071874]), array([-6.50105949,  4.84597443]), array([-6.33118166,  5.33565931])]], [[array([ 7.72242077, -7.03874246])], [array([-4.23730235,  7.250212  ])], [array([-3.79391947, -3.61878353])], [array([-1.11216964, -3.25478377])], [array([-0.22218552, -5.27954892])], [array([ 8.88980908, -6.08292813])], [array([ 6.85313675, -3.9548028 ])], [array([-4.3387432 ,  4.86629916])], [array([-4.21975393, -4.90807072])], [array([-2.72167033, -3.62109064])], [array([-3.18673913, -4.604478  ])], [array([ 6.99190762, -5.21484874])], [array([-7.11058673,  5.80834876])], [array([ 7.67889605, -5.9433405 ]), array([ 7.44233398, -6.27107334])], [array([ 5.91815995, -5.10783328]), array([ 5.43146015, -4.63716234]), array([ 5.26940679, -5.05995486])], [array([-1.68362377, -3.65172014]), array([-1.37517665, -4.13234736])], [array([-5.00287684,  5.78378188]), array([-5.32649731,  5.97575138]), array([-5.63613831,  5.45071874]), array([-6.50105949,  4.84597443]), array([-6.33118166,  5.33565931])]], [[array([ 7.72242077, -7.03874246])], [array([-4.23730235,  7.250212  ])], [array([-3.79391947, -3.61878353])], [array([-0.22218552, -5.27954892])], [array([ 8.88980908, -6.08292813])], [array([ 6.85313675, -3.9548028 ])], [array([-4.3387432 ,  4.86629916])], [array([-4.21975393, -4.90807072])], [array([-2.72167033, -3.62109064])], [array([-3.18673913, -4.604478  ])], [array([ 6.99190762, -5.21484874])], [array([-7.11058673,  5.80834876])], [array([ 7.67889605, -5.9433405 ]), array([ 7.44233398, -6.27107334])], [array([ 5.91815995, -5.10783328]), array([ 5.43146015, -4.63716234]), array([ 5.26940679, -5.05995486])], [array([-5.00287684,  5.78378188]), array([-5.32649731,  5.97575138]), array([-5.63613831,  5.45071874]), array([-6.50105949,  4.84597443]), array([-6.33118166,  5.33565931])], [array([-1.11216964, -3.25478377]), array([-1.68362377, -3.65172014]), array([-1.37517665, -4.13234736])]], [[array([-4.23730235,  7.250212  ])], [array([-3.79391947, -3.61878353])], [array([-0.22218552, -5.27954892])], [array([ 8.88980908, -6.08292813])], [array([ 6.85313675, -3.9548028 ])], [array([-4.3387432 ,  4.86629916])], [array([-4.21975393, -4.90807072])], [array([-2.72167033, -3.62109064])], [array([-3.18673913, -4.604478  ])], [array([ 6.99190762, -5.21484874])], [array([-7.11058673,  5.80834876])], [array([ 5.91815995, -5.10783328]), array([ 5.43146015, -4.63716234]), array([ 5.26940679, -5.05995486])], [array([-5.00287684,  5.78378188]), array([-5.32649731,  5.97575138]), array([-5.63613831,  5.45071874]), array([-6.50105949,  4.84597443]), array([-6.33118166,  5.33565931])], [array([-1.11216964, -3.25478377]), array([-1.68362377, -3.65172014]), array([-1.37517665, -4.13234736])], [array([ 7.72242077, -7.03874246]), array([ 7.67889605, -5.9433405 ]), array([ 7.44233398, -6.27107334])]], [[array([-4.23730235,  7.250212  ])], [array([-3.79391947, -3.61878353])], [array([-0.22218552, -5.27954892])], [array([ 8.88980908, -6.08292813])], [array([ 6.85313675, -3.9548028 ])], [array([-4.3387432 ,  4.86629916])], [array([-4.21975393, -4.90807072])], [array([-3.18673913, -4.604478  ])], [array([ 6.99190762, -5.21484874])], [array([-7.11058673,  5.80834876])], [array([ 5.91815995, -5.10783328]), array([ 5.43146015, -4.63716234]), array([ 5.26940679, -5.05995486])], [array([-5.00287684,  5.78378188]), array([-5.32649731,  5.97575138]), array([-5.63613831,  5.45071874]), array([-6.50105949,  4.84597443]), array([-6.33118166,  5.33565931])], [array([ 7.72242077, -7.03874246]), array([ 7.67889605, -5.9433405 ]), array([ 7.44233398, -6.27107334])], [array([-2.72167033, -3.62109064]), array([-1.11216964, -3.25478377]), array([-1.68362377, -3.65172014]), array([-1.37517665, -4.13234736])]], [[array([-4.23730235,  7.250212  ])], [array([-0.22218552, -5.27954892])], [array([ 8.88980908, -6.08292813])], [array([ 6.85313675, -3.9548028 ])], [array([-4.3387432 ,  4.86629916])], [array([-4.21975393, -4.90807072])], [array([-3.18673913, -4.604478  ])], [array([ 6.99190762, -5.21484874])], [array([-7.11058673,  5.80834876])], [array([ 5.91815995, -5.10783328]), array([ 5.43146015, -4.63716234]), array([ 5.26940679, -5.05995486])], [array([-5.00287684,  5.78378188]), array([-5.32649731,  5.97575138]), array([-5.63613831,  5.45071874]), array([-6.50105949,  4.84597443]), array([-6.33118166,  5.33565931])], [array([ 7.72242077, -7.03874246]), array([ 7.67889605, -5.9433405 ]), array([ 7.44233398, -6.27107334])], [array([-3.79391947, -3.61878353]), array([-2.72167033, -3.62109064]), array([-1.11216964, -3.25478377]), array([-1.68362377, -3.65172014]), array([-1.37517665, -4.13234736])]], [[array([-4.23730235,  7.250212  ])], [array([-0.22218552, -5.27954892])], [array([ 8.88980908, -6.08292813])], [array([ 6.85313675, -3.9548028 ])], [array([-4.3387432 ,  4.86629916])], [array([-4.21975393, -4.90807072])], [array([-3.18673913, -4.604478  ])], [array([-7.11058673,  5.80834876])], [array([-5.00287684,  5.78378188]), array([-5.32649731,  5.97575138]), array([-5.63613831,  5.45071874]), array([-6.50105949,  4.84597443]), array([-6.33118166,  5.33565931])], [array([ 7.72242077, -7.03874246]), array([ 7.67889605, -5.9433405 ]), array([ 7.44233398, -6.27107334])], [array([-3.79391947, -3.61878353]), array([-2.72167033, -3.62109064]), array([-1.11216964, -3.25478377]), array([-1.68362377, -3.65172014]), array([-1.37517665, -4.13234736])], [array([ 6.99190762, -5.21484874]), array([ 5.91815995, -5.10783328]), array([ 5.43146015, -4.63716234]), array([ 5.26940679, -5.05995486])]], [[array([-4.23730235,  7.250212  ])], [array([-0.22218552, -5.27954892])], [array([ 8.88980908, -6.08292813])], [array([ 6.85313675, -3.9548028 ])], [array([-4.3387432 ,  4.86629916])], [array([-4.21975393, -4.90807072])], [array([-3.18673913, -4.604478  ])], [array([ 7.72242077, -7.03874246]), array([ 7.67889605, -5.9433405 ]), array([ 7.44233398, -6.27107334])], [array([-3.79391947, -3.61878353]), array([-2.72167033, -3.62109064]), array([-1.11216964, -3.25478377]), array([-1.68362377, -3.65172014]), array([-1.37517665, -4.13234736])], [array([ 6.99190762, -5.21484874]), array([ 5.91815995, -5.10783328]), array([ 5.43146015, -4.63716234]), array([ 5.26940679, -5.05995486])], [array([-7.11058673,  5.80834876]), array([-5.00287684,  5.78378188]), array([-5.32649731,  5.97575138]), array([-5.63613831,  5.45071874]), array([-6.50105949,  4.84597443]), array([-6.33118166,  5.33565931])]], [[array([-4.23730235,  7.250212  ])], [array([-0.22218552, -5.27954892])], [array([ 8.88980908, -6.08292813])], [array([ 6.85313675, -3.9548028 ])], [array([-4.3387432 ,  4.86629916])], [array([ 7.72242077, -7.03874246]), array([ 7.67889605, -5.9433405 ]), array([ 7.44233398, -6.27107334])], [array([-3.79391947, -3.61878353]), array([-2.72167033, -3.62109064]), array([-1.11216964, -3.25478377]), array([-1.68362377, -3.65172014]), array([-1.37517665, -4.13234736])], [array([ 6.99190762, -5.21484874]), array([ 5.91815995, -5.10783328]), array([ 5.43146015, -4.63716234]), array([ 5.26940679, -5.05995486])], [array([-7.11058673,  5.80834876]), array([-5.00287684,  5.78378188]), array([-5.32649731,  5.97575138]), array([-5.63613831,  5.45071874]), array([-6.50105949,  4.84597443]), array([-6.33118166,  5.33565931])], [array([-4.21975393, -4.90807072]), array([-3.18673913, -4.604478  ])]], [[array([-4.23730235,  7.250212  ])], [array([-0.22218552, -5.27954892])], [array([ 6.85313675, -3.9548028 ])], [array([-4.3387432 ,  4.86629916])], [array([-3.79391947, -3.61878353]), array([-2.72167033, -3.62109064]), array([-1.11216964, -3.25478377]), array([-1.68362377, -3.65172014]), array([-1.37517665, -4.13234736])], [array([ 6.99190762, -5.21484874]), array([ 5.91815995, -5.10783328]), array([ 5.43146015, -4.63716234]), array([ 5.26940679, -5.05995486])], [array([-7.11058673,  5.80834876]), array([-5.00287684,  5.78378188]), array([-5.32649731,  5.97575138]), array([-5.63613831,  5.45071874]), array([-6.50105949,  4.84597443]), array([-6.33118166,  5.33565931])], [array([-4.21975393, -4.90807072]), array([-3.18673913, -4.604478  ])], [array([ 8.88980908, -6.08292813]), array([ 7.72242077, -7.03874246]), array([ 7.67889605, -5.9433405 ]), array([ 7.44233398, -6.27107334])]], [[array([-4.23730235,  7.250212  ])], [array([-0.22218552, -5.27954892])], [array([-4.3387432 ,  4.86629916])], [array([-3.79391947, -3.61878353]), array([-2.72167033, -3.62109064]), array([-1.11216964, -3.25478377]), array([-1.68362377, -3.65172014]), array([-1.37517665, -4.13234736])], [array([-7.11058673,  5.80834876]), array([-5.00287684,  5.78378188]), array([-5.32649731,  5.97575138]), array([-5.63613831,  5.45071874]), array([-6.50105949,  4.84597443]), array([-6.33118166,  5.33565931])], [array([-4.21975393, -4.90807072]), array([-3.18673913, -4.604478  ])], [array([ 8.88980908, -6.08292813]), array([ 7.72242077, -7.03874246]), array([ 7.67889605, -5.9433405 ]), array([ 7.44233398, -6.27107334])], [array([ 6.85313675, -3.9548028 ]), array([ 6.99190762, -5.21484874]), array([ 5.91815995, -5.10783328]), array([ 5.43146015, -4.63716234]), array([ 5.26940679, -5.05995486])]], [[array([-4.23730235,  7.250212  ])], [array([-0.22218552, -5.27954892])], [array([-4.3387432 ,  4.86629916])], [array([-3.79391947, -3.61878353]), array([-2.72167033, -3.62109064]), array([-1.11216964, -3.25478377]), array([-1.68362377, -3.65172014]), array([-1.37517665, -4.13234736])], [array([-7.11058673,  5.80834876]), array([-5.00287684,  5.78378188]), array([-5.32649731,  5.97575138]), array([-5.63613831,  5.45071874]), array([-6.50105949,  4.84597443]), array([-6.33118166,  5.33565931])], [array([-4.21975393, -4.90807072]), array([-3.18673913, -4.604478  ])], [array([ 8.88980908, -6.08292813]), array([ 7.72242077, -7.03874246]), array([ 7.67889605, -5.9433405 ]), array([ 7.44233398, -6.27107334]), array([ 6.85313675, -3.9548028 ]), array([ 6.99190762, -5.21484874]), array([ 5.91815995, -5.10783328]), array([ 5.43146015, -4.63716234]), array([ 5.26940679, -5.05995486])]], [[array([-4.23730235,  7.250212  ])], [array([-0.22218552, -5.27954892])], [array([-4.3387432 ,  4.86629916])], [array([-7.11058673,  5.80834876]), array([-5.00287684,  5.78378188]), array([-5.32649731,  5.97575138]), array([-5.63613831,  5.45071874]), array([-6.50105949,  4.84597443]), array([-6.33118166,  5.33565931])], [array([ 8.88980908, -6.08292813]), array([ 7.72242077, -7.03874246]), array([ 7.67889605, -5.9433405 ]), array([ 7.44233398, -6.27107334]), array([ 6.85313675, -3.9548028 ]), array([ 6.99190762, -5.21484874]), array([ 5.91815995, -5.10783328]), array([ 5.43146015, -4.63716234]), array([ 5.26940679, -5.05995486])], [array([-3.79391947, -3.61878353]), array([-2.72167033, -3.62109064]), array([-1.11216964, -3.25478377]), array([-1.68362377, -3.65172014]), array([-1.37517665, -4.13234736]), array([-4.21975393, -4.90807072]), array([-3.18673913, -4.604478  ])]], [[array([-4.23730235,  7.250212  ])], [array([-0.22218552, -5.27954892])], [array([ 8.88980908, -6.08292813]), array([ 7.72242077, -7.03874246]), array([ 7.67889605, -5.9433405 ]), array([ 7.44233398, -6.27107334]), array([ 6.85313675, -3.9548028 ]), array([ 6.99190762, -5.21484874]), array([ 5.91815995, -5.10783328]), array([ 5.43146015, -4.63716234]), array([ 5.26940679, -5.05995486])], [array([-3.79391947, -3.61878353]), array([-2.72167033, -3.62109064]), array([-1.11216964, -3.25478377]), array([-1.68362377, -3.65172014]), array([-1.37517665, -4.13234736]), array([-4.21975393, -4.90807072]), array([-3.18673913, -4.604478  ])], [array([-4.3387432 ,  4.86629916]), array([-7.11058673,  5.80834876]), array([-5.00287684,  5.78378188]), array([-5.32649731,  5.97575138]), array([-5.63613831,  5.45071874]), array([-6.50105949,  4.84597443]), array([-6.33118166,  5.33565931])]], [[array([-0.22218552, -5.27954892])], [array([ 8.88980908, -6.08292813]), array([ 7.72242077, -7.03874246]), array([ 7.67889605, -5.9433405 ]), array([ 7.44233398, -6.27107334]), array([ 6.85313675, -3.9548028 ]), array([ 6.99190762, -5.21484874]), array([ 5.91815995, -5.10783328]), array([ 5.43146015, -4.63716234]), array([ 5.26940679, -5.05995486])], [array([-3.79391947, -3.61878353]), array([-2.72167033, -3.62109064]), array([-1.11216964, -3.25478377]), array([-1.68362377, -3.65172014]), array([-1.37517665, -4.13234736]), array([-4.21975393, -4.90807072]), array([-3.18673913, -4.604478  ])], [array([-4.23730235,  7.250212  ]), array([-4.3387432 ,  4.86629916]), array([-7.11058673,  5.80834876]), array([-5.00287684,  5.78378188]), array([-5.32649731,  5.97575138]), array([-5.63613831,  5.45071874]), array([-6.50105949,  4.84597443]), array([-6.33118166,  5.33565931])]], [[array([ 8.88980908, -6.08292813]), array([ 7.72242077, -7.03874246]), array([ 7.67889605, -5.9433405 ]), array([ 7.44233398, -6.27107334]), array([ 6.85313675, -3.9548028 ]), array([ 6.99190762, -5.21484874]), array([ 5.91815995, -5.10783328]), array([ 5.43146015, -4.63716234]), array([ 5.26940679, -5.05995486])], [array([-4.23730235,  7.250212  ]), array([-4.3387432 ,  4.86629916]), array([-7.11058673,  5.80834876]), array([-5.00287684,  5.78378188]), array([-5.32649731,  5.97575138]), array([-5.63613831,  5.45071874]), array([-6.50105949,  4.84597443]), array([-6.33118166,  5.33565931])], [array([-0.22218552, -5.27954892]), array([-3.79391947, -3.61878353]), array([-2.72167033, -3.62109064]), array([-1.11216964, -3.25478377]), array([-1.68362377, -3.65172014]), array([-1.37517665, -4.13234736]), array([-4.21975393, -4.90807072]), array([-3.18673913, -4.604478  ])]], [[array([-4.23730235,  7.250212  ]), array([-4.3387432 ,  4.86629916]), array([-7.11058673,  5.80834876]), array([-5.00287684,  5.78378188]), array([-5.32649731,  5.97575138]), array([-5.63613831,  5.45071874]), array([-6.50105949,  4.84597443]), array([-6.33118166,  5.33565931])], [array([ 8.88980908, -6.08292813]), array([ 7.72242077, -7.03874246]), array([ 7.67889605, -5.9433405 ]), array([ 7.44233398, -6.27107334]), array([ 6.85313675, -3.9548028 ]), array([ 6.99190762, -5.21484874]), array([ 5.91815995, -5.10783328]), array([ 5.43146015, -4.63716234]), array([ 5.26940679, -5.05995486]), array([-0.22218552, -5.27954892]), array([-3.79391947, -3.61878353]), array([-2.72167033, -3.62109064]), array([-1.11216964, -3.25478377]), array([-1.68362377, -3.65172014]), array([-1.37517665, -4.13234736]), array([-4.21975393, -4.90807072]), array([-3.18673913, -4.604478  ])]], [[array([-4.23730235,  7.250212  ]), array([-4.3387432 ,  4.86629916]), array([-7.11058673,  5.80834876]), array([-5.00287684,  5.78378188]), array([-5.32649731,  5.97575138]), array([-5.63613831,  5.45071874]), array([-6.50105949,  4.84597443]), array([-6.33118166,  5.33565931]), array([ 8.88980908, -6.08292813]), array([ 7.72242077, -7.03874246]), array([ 7.67889605, -5.9433405 ]), array([ 7.44233398, -6.27107334]), array([ 6.85313675, -3.9548028 ]), array([ 6.99190762, -5.21484874]), array([ 5.91815995, -5.10783328]), array([ 5.43146015, -4.63716234]), array([ 5.26940679, -5.05995486]), array([-0.22218552, -5.27954892]), array([-3.79391947, -3.61878353]), array([-2.72167033, -3.62109064]), array([-1.11216964, -3.25478377]), array([-1.68362377, -3.65172014]), array([-1.37517665, -4.13234736]), array([-4.21975393, -4.90807072]), array([-3.18673913, -4.604478  ])]]]\n"
     ]
    }
   ],
   "source": [
    "\n",
    "k=integration_liste(25)\n",
    "for p in k:\n",
    "    plt.figure()\n",
    "    for g in p:\n",
    "        plt.scatter([x[0] for x in g],[x[1] for x in g])"
   ]
  },
  {
   "cell_type": "markdown",
   "metadata": {},
   "source": [
    "Implantez d'autres distances entre groupes (complete linkage, average linkage,...) et modifiez la fonction CAH de sorte que la méthode utilisée pour le calcul entre groupe puisse lui être passée en paramètre."
   ]
  },
  {
   "cell_type": "code",
   "execution_count": 4,
   "metadata": {},
   "outputs": [],
   "source": [
    "#complete_link_distance calcule les distances entre 2 pts de chaque groupe puis garde la distance maximale\n",
    "def complete_link_distance(g1,g2):\n",
    "    return max([distance1(i,j)for i in g1 for j in g2])\n",
    "\n",
    "#average_link_distance calcule les distances entre 2 pts de chaque groupe définies par la formule suivante :\n",
    "# Soient A et B 2 groupes , i un elt de A et j un elt de B, nA,nB les tailles respectives de A & B\n",
    "# d(A,B) = (somme de distances entre i et j)/(nA*nB) \n",
    "def average_link_distance(g1,g2):\n",
    "    return (sum([distance1(i,j)for i in g1 for j in g2])/(len(g1)*len(g2)))\n",
    "\n",
    "\n",
    "#centroid_link_distance calcule les distances entre 2 pts moyens de chaque groupe puis garde la distance maximale\n",
    "def centroid_link_distance(g1,g2):\n",
    "   G1=np.mean(g1)\n",
    "   G2=np.mean(g2)\n",
    "   n1,n2=len(g1),len(g2)\n",
    "   g12=((n1*G1)+(n2*G2))/(n1+n2)\n",
    "   return g12\n",
    "\n",
    "def integration_liste1(calcul,partition):\n",
    "    while len(partition)>1:\n",
    "        group_distances={calcul(partition[i],partition[j]):(i,j) for i in range(len(partition)) for j in range(i+1,len(partition))}\n",
    "        group_fusion=group_distances[min(group_distances)]\n",
    "        new_partition=partition.copy()\n",
    "        new_group=partition[group_fusion[0]]+partition[group_fusion[1]]\n",
    "        new_partition.pop(group_fusion[1])\n",
    "        new_partition.pop(group_fusion[0])\n",
    "        new_partition.append(new_group)\n",
    "        partition=new_partition\n",
    "        partitions.append(partition)\n",
    "    return partitions\n",
    "\n"
   ]
  },
  {
   "cell_type": "code",
   "execution_count": null,
   "metadata": {},
   "outputs": [],
   "source": [
    "A,B = make_blobs(n_samples =15)\n",
    "A= pd.DataFrame(A, columns = ['abscisse','ordonnée'])\n",
    "partition=[[i] for i in A.to_numpy()]\n",
    "partitions=[partition]\n",
    "k=integration_liste1(centroid_link_distance,partition)\n",
    "for p in k:\n",
    "    plt.figure()\n",
    "    for g in p:\n",
    "        plt.scatter([x[0] for x in g],[x[1] for x in g])"
   ]
  },
  {
   "cell_type": "markdown",
   "metadata": {},
   "source": [
    "Testez la CAH sur différents jeux de données avec différents paramètres."
   ]
  },
  {
   "cell_type": "code",
   "execution_count": null,
   "metadata": {},
   "outputs": [],
   "source": [
    "#Testons l'average linkage avec n_samples =30\n",
    "A,B = make_blobs(n_samples =30)\n",
    "A= pd.DataFrame(A, columns = ['abscisse','ordonnée'])\n",
    "partition=[[i] for i in A.to_numpy()]\n",
    "partitions=[partition]\n",
    "k=integration_liste1(average_link_distance,partition)\n",
    "for p in k:\n",
    "    plt.figure()\n",
    "    for g in p:\n",
    "        plt.scatter([x[0] for x in g],[x[1] for x in g])"
   ]
  },
  {
   "cell_type": "code",
   "execution_count": null,
   "metadata": {},
   "outputs": [],
   "source": [
    "#Testons Le complete linkage avec n_samples =30\n",
    "A,B = make_blobs(n_samples =30)\n",
    "A= pd.DataFrame(A, columns = ['abscisse','ordonnée'])\n",
    "partition=[[i] for i in A.to_numpy()]\n",
    "partitions=[partition]\n",
    "k=integration_liste1(complete_link_distance,partition)\n",
    "for p in k:\n",
    "    plt.figure()\n",
    "    for g in p:\n",
    "        plt.scatter([x[0] for x in g],[x[1] for x in g])"
   ]
  }
 ],
 "metadata": {
  "kernelspec": {
   "display_name": "Python 3",
   "language": "python",
   "name": "python3"
  },
  "language_info": {
   "codemirror_mode": {
    "name": "ipython",
    "version": 3
   },
   "file_extension": ".py",
   "mimetype": "text/x-python",
   "name": "python",
   "nbconvert_exporter": "python",
   "pygments_lexer": "ipython3",
   "version": "3.11.4"
  }
 },
 "nbformat": 4,
 "nbformat_minor": 4
}
