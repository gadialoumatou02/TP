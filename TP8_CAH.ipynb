{
 "cells": [
  {
   "cell_type": "markdown",
   "metadata": {},
   "source": [
    "# Classification ascendante hiérarchique"
   ]
  },
  {
   "cell_type": "markdown",
   "metadata": {},
   "source": [
    "## Import des bibliothèques"
   ]
  },
  {
   "cell_type": "code",
   "execution_count": 1,
   "metadata": {},
   "outputs": [],
   "source": [
    "import numpy as np\n",
    "from sklearn.datasets import make_blobs\n",
    "import matplotlib.pyplot as plt\n",
    "import pandas as pd"
   ]
  },
  {
   "cell_type": "markdown",
   "metadata": {},
   "source": [
    "Implantez une fonction renvoyant la distance euclidienne entre deux points. Ces points devront être de même dimension. Ils pourront être implanté comme une liste, un tuple, un tableau numpy unidirectionnel ou une Series."
   ]
  },
  {
   "cell_type": "code",
   "execution_count": 13,
   "metadata": {},
   "outputs": [],
   "source": [
    "def distance1(p1,p2):\n",
    "    p1=np.array(p1)\n",
    "    p2=np.array(p2)\n",
    "    return np.sum(np.sqrt(((p2-p1)**2)))"
   ]
  },
  {
   "cell_type": "code",
   "execution_count": 14,
   "metadata": {},
   "outputs": [
    {
     "name": "stdout",
     "output_type": "stream",
     "text": [
      "2.0\n",
      "3.0\n"
     ]
    }
   ],
   "source": [
    "print(distance1([2,3],(4,3)))\n",
    "print(distance1(pd.Series([1,2,3]),np.array([2,3,4])))"
   ]
  },
  {
   "cell_type": "markdown",
   "metadata": {},
   "source": [
    "Exécutez la cellule suivante"
   ]
  },
  {
   "cell_type": "code",
   "execution_count": 19,
   "metadata": {},
   "outputs": [
    {
     "name": "stdout",
     "output_type": "stream",
     "text": [
      "[[ 3.69319556  8.14245583]\n",
      " [ 4.88643541  7.16184202]\n",
      " [ 7.61332421 -6.69539068]\n",
      " [ 4.52933835  6.8375356 ]\n",
      " [ 6.9160767   9.07534835]\n",
      " [ 5.25212909  6.11775271]\n",
      " [ 2.68785991  6.94473962]\n",
      " [ 6.85365398  6.77684323]\n",
      " [ 3.4690515   7.30290118]\n",
      " [ 2.47401071  8.29063319]\n",
      " [ 8.04591388 -8.19989868]\n",
      " [ 2.1461589   4.71850657]\n",
      " [ 6.91939185  8.07261556]\n",
      " [ 8.09959328 -5.76748383]\n",
      " [ 7.34679314 -6.34858501]\n",
      " [ 6.71154917  9.71403788]\n",
      " [ 7.43481888  8.98231821]\n",
      " [ 3.76954397  5.16308749]\n",
      " [ 8.28065374 -5.6379824 ]\n",
      " [ 7.29118554 -7.52850066]\n",
      " [ 7.64255671 -7.77859199]\n",
      " [ 6.2683753   8.74632798]\n",
      " [ 8.40922294 -7.193665  ]\n",
      " [ 6.17369744  9.96449888]\n",
      " [ 8.55712011  9.57691071]\n",
      " [ 6.37902026 -6.88177585]\n",
      " [ 2.39882906  7.75376883]\n",
      " [ 3.45729081  7.63598595]\n",
      " [ 8.02484385  9.46310233]\n",
      " [ 7.13740282 -4.8153769 ]\n",
      " [ 8.75003099  9.56304774]\n",
      " [ 5.5576994  -6.9004789 ]\n",
      " [ 7.54031435 -8.65870325]\n",
      " [ 3.67220153  5.92127812]\n",
      " [ 6.12754768  8.72229535]\n",
      " [ 6.16915236  9.24220899]\n",
      " [ 7.65184702  8.83085919]\n",
      " [ 7.05758385 -6.51523566]\n",
      " [ 3.63910604  5.75348492]\n",
      " [ 6.54115799  7.97786269]]\n",
      "[2 2 1 2 0 2 2 0 2 2 1 2 0 1 1 0 0 2 1 1 1 0 1 0 0 1 2 2 0 1 0 1 1 2 0 0 0\n",
      " 1 2 0]\n"
     ]
    },
    {
     "data": {
      "text/plain": [
       "<matplotlib.collections.PathCollection at 0x26ea6b6ced0>"
      ]
     },
     "execution_count": 19,
     "metadata": {},
     "output_type": "execute_result"
    },
    {
     "data": {
      "image/png": "[encoded data removed]",
      "text/plain": [
       "<Figure size 640x480 with 1 Axes>"
      ]
     },
     "metadata": {},
     "output_type": "display_data"
    }
   ],
   "source": [
    "n_samples = 40\n",
    "X, Y = make_blobs(n_samples = n_samples)\n",
    "print(X)\n",
    "print(Y)\n",
    "X = pd.DataFrame(X, columns = ['abscisse','ordonnée'])\n",
    "plt.figure()\n",
    "plt.scatter(X['abscisse'],X['ordonnée'])"
   ]
  },
  {
   "cell_type": "markdown",
   "metadata": {},
   "source": [
    "Etudiez l'aide de la fonction `make_blobs`. Puis faites varier les paramètres `n_spamples` et `centers` pour visualiser leur effets."
   ]
  },
  {
   "cell_type": "markdown",
   "metadata": {},
   "source": [
    "Nous allons implanter l'algorithme de classification ascendante hiérarchique petit à petit"
   ]
  },
  {
   "cell_type": "markdown",
   "metadata": {},
   "source": [
    "Une partition est une répartition des points dans des groupes. Les groupes seront implantés par des listes. La partition est elle-même une liste des groupes.\n",
    "\n",
    "Commencer par initialiser une partition (liste) dont les groupes (listes) contiendront chacun un des points de `X`. "
   ]
  },
  {
   "cell_type": "code",
   "execution_count": 5,
   "metadata": {},
   "outputs": [
    {
     "name": "stdout",
     "output_type": "stream",
     "text": [
      "\u001b[1;31mSignature:\u001b[0m\n",
      "\u001b[0mmake_blobs\u001b[0m\u001b[1;33m(\u001b[0m\u001b[1;33m\n",
      "\u001b[0m    \u001b[0mn_samples\u001b[0m\u001b[1;33m=\u001b[0m\u001b[1;36m100\u001b[0m\u001b[1;33m,\u001b[0m\u001b[1;33m\n",
      "\u001b[0m    \u001b[0mn_features\u001b[0m\u001b[1;33m=\u001b[0m\u001b[1;36m2\u001b[0m\u001b[1;33m,\u001b[0m\u001b[1;33m\n",
      "\u001b[0m    \u001b[1;33m*\u001b[0m\u001b[1;33m,\u001b[0m\u001b[1;33m\n",
      "\u001b[0m    \u001b[0mcenters\u001b[0m\u001b[1;33m=\u001b[0m\u001b[1;32mNone\u001b[0m\u001b[1;33m,\u001b[0m\u001b[1;33m\n",
      "\u001b[0m    \u001b[0mcluster_std\u001b[0m\u001b[1;33m=\u001b[0m\u001b[1;36m1.0\u001b[0m\u001b[1;33m,\u001b[0m\u001b[1;33m\n",
      "\u001b[0m    \u001b[0mcenter_box\u001b[0m\u001b[1;33m=\u001b[0m\u001b[1;33m(\u001b[0m\u001b[1;33m-\u001b[0m\u001b[1;36m10.0\u001b[0m\u001b[1;33m,\u001b[0m \u001b[1;36m10.0\u001b[0m\u001b[1;33m)\u001b[0m\u001b[1;33m,\u001b[0m\u001b[1;33m\n",
      "\u001b[0m    \u001b[0mshuffle\u001b[0m\u001b[1;33m=\u001b[0m\u001b[1;32mTrue\u001b[0m\u001b[1;33m,\u001b[0m\u001b[1;33m\n",
      "\u001b[0m    \u001b[0mrandom_state\u001b[0m\u001b[1;33m=\u001b[0m\u001b[1;32mNone\u001b[0m\u001b[1;33m,\u001b[0m\u001b[1;33m\n",
      "\u001b[0m    \u001b[0mreturn_centers\u001b[0m\u001b[1;33m=\u001b[0m\u001b[1;32mFalse\u001b[0m\u001b[1;33m,\u001b[0m\u001b[1;33m\n",
      "\u001b[0m\u001b[1;33m)\u001b[0m\u001b[1;33m\u001b[0m\u001b[1;33m\u001b[0m\u001b[0m\n",
      "\u001b[1;31mDocstring:\u001b[0m\n",
      "Generate isotropic Gaussian blobs for clustering.\n",
      "\n",
      "Read more in the :ref:`User Guide <sample_generators>`.\n",
      "\n",
      "Parameters\n",
      "----------\n",
      "n_samples : int or array-like, default=100\n",
      "    If int, it is the total number of points equally divided among\n",
      "    clusters.\n",
      "    If array-like, each element of the sequence indicates\n",
      "    the number of samples per cluster.\n",
      "\n",
      "    .. versionchanged:: v0.20\n",
      "        one can now pass an array-like to the ``n_samples`` parameter\n",
      "\n",
      "n_features : int, default=2\n",
      "    The number of features for each sample.\n",
      "\n",
      "centers : int or array-like of shape (n_centers, n_features), default=None\n",
      "    The number of centers to generate, or the fixed center locations.\n",
      "    If n_samples is an int and centers is None, 3 centers are generated.\n",
      "    If n_samples is array-like, centers must be\n",
      "    either None or an array of length equal to the length of n_samples.\n",
      "\n",
      "cluster_std : float or array-like of float, default=1.0\n",
      "    The standard deviation of the clusters.\n",
      "\n",
      "center_box : tuple of float (min, max), default=(-10.0, 10.0)\n",
      "    The bounding box for each cluster center when centers are\n",
      "    generated at random.\n",
      "\n",
      "shuffle : bool, default=True\n",
      "    Shuffle the samples.\n",
      "\n",
      "random_state : int, RandomState instance or None, default=None\n",
      "    Determines random number generation for dataset creation. Pass an int\n",
      "    for reproducible output across multiple function calls.\n",
      "    See :term:`Glossary <random_state>`.\n",
      "\n",
      "return_centers : bool, default=False\n",
      "    If True, then return the centers of each cluster.\n",
      "\n",
      "    .. versionadded:: 0.23\n",
      "\n",
      "Returns\n",
      "-------\n",
      "X : ndarray of shape (n_samples, n_features)\n",
      "    The generated samples.\n",
      "\n",
      "y : ndarray of shape (n_samples,)\n",
      "    The integer labels for cluster membership of each sample.\n",
      "\n",
      "centers : ndarray of shape (n_centers, n_features)\n",
      "    The centers of each cluster. Only returned if\n",
      "    ``return_centers=True``.\n",
      "\n",
      "See Also\n",
      "--------\n",
      "make_classification : A more intricate variant.\n",
      "\n",
      "Examples\n",
      "--------\n",
      ">>> from sklearn.datasets import make_blobs\n",
      ">>> X, y = make_blobs(n_samples=10, centers=3, n_features=2,\n",
      "...                   random_state=0)\n",
      ">>> print(X.shape)\n",
      "(10, 2)\n",
      ">>> y\n",
      "array([0, 0, 1, 0, 2, 2, 2, 1, 1, 0])\n",
      ">>> X, y = make_blobs(n_samples=[3, 3, 4], centers=None, n_features=2,\n",
      "...                   random_state=0)\n",
      ">>> print(X.shape)\n",
      "(10, 2)\n",
      ">>> y\n",
      "array([0, 1, 2, 0, 2, 2, 2, 1, 1, 0])\n",
      "\u001b[1;31mFile:\u001b[0m      c:\\users\\gadji\\anaconda3\\lib\\site-packages\\sklearn\\datasets\\_samples_generator.py\n",
      "\u001b[1;31mType:\u001b[0m      function"
     ]
    }
   ],
   "source": [
    "make_blobs?"
   ]
  },
  {
   "cell_type": "code",
   "execution_count": 6,
   "metadata": {},
   "outputs": [
    {
     "data": {
      "text/plain": [
       "[[array([4.84981003, 0.87633123])],\n",
       " [array([ 4.03595715, -9.19278138])],\n",
       " [array([-2.88080233, -5.60628879])],\n",
       " [array([ 4.25045616, -8.29676513])],\n",
       " [array([-3.36621435, -6.2776619 ])],\n",
       " [array([ 2.92785552, -8.44165069])],\n",
       " [array([5.88233759, 1.71618892])],\n",
       " [array([-4.47060646, -4.18072292])],\n",
       " [array([5.82716036, 1.85009003])],\n",
       " [array([ 1.87388721, -7.66540375])],\n",
       " [array([-3.96289858, -5.08192403])],\n",
       " [array([-4.99075773, -5.51148469])],\n",
       " [array([6.16224134, 1.79179322])],\n",
       " [array([-4.84125363, -5.73267407])],\n",
       " [array([4.97715518, 0.48660361])],\n",
       " [array([5.55226453, 0.53554556])],\n",
       " [array([-4.76938325, -4.74598826])],\n",
       " [array([5.705233  , 1.76230267])],\n",
       " [array([ 3.13000878, -6.92468126])],\n",
       " [array([ 1.06384985, -8.42317103])],\n",
       " [array([ 4.05770048, -7.22808876])],\n",
       " [array([ 3.26550393, -7.73211197])],\n",
       " [array([4.98833992, 1.62514863])],\n",
       " [array([-4.67153828, -3.10410825])],\n",
       " [array([-3.92314666, -4.49629798])],\n",
       " [array([-4.96601621, -6.32409685])],\n",
       " [array([ 2.28617829, -7.76441799])],\n",
       " [array([4.41233   , 3.27942898])],\n",
       " [array([-3.51039787, -6.41137222])],\n",
       " [array([ 2.809364  , -8.50354205])],\n",
       " [array([ 2.36443297, -8.94570618])],\n",
       " [array([ 3.24779959, -9.20102528])],\n",
       " [array([-2.91865482, -7.13489079])],\n",
       " [array([5.18136381, 1.29777123])],\n",
       " [array([ 3.27696048, -8.71367067])],\n",
       " [array([-1.97410531, -5.49539555])],\n",
       " [array([3.28428589, 3.3166489 ])],\n",
       " [array([3.24959219, 3.49905406])],\n",
       " [array([-2.95171945, -3.89977029])],\n",
       " [array([4.08427424, 1.99606656])]]"
      ]
     },
     "execution_count": 6,
     "metadata": {},
     "output_type": "execute_result"
    }
   ],
   "source": [
    "partition=[[i] for i in X.to_numpy()]\n",
    "partition"
   ]
  },
  {
   "cell_type": "markdown",
   "metadata": {},
   "source": [
    "Implantez la fonction `single_link_distance` qui, prenant deux groupes `g1` et `g2` en paramètres, renvoie la plus petite distance entre un élément de `g1` et un élément de `g2`."
   ]
  },
  {
   "cell_type": "code",
   "execution_count": 7,
   "metadata": {},
   "outputs": [],
   "source": [
    "#single_link_distance calcule les distances entre 2 pts de chaque goupe puis garde la distance minimale\n",
    "def single_link_distance(g1,g2):\n",
    "    return min([distance1(i,j)for i in g1 for j in g2])"
   ]
  },
  {
   "cell_type": "markdown",
   "metadata": {},
   "source": [
    "Donnez l'instruction ou la séquence d'instructions qui, considérant une partition (ensemble de groupes), produit un dictionnaire dans lequel la clé est la distance (single_link_distance) entre deux groupes et la valeur associée est le tuple des indices des deux groupes entre lesquels cette distance est calculée."
   ]
  },
  {
   "cell_type": "code",
   "execution_count": null,
   "metadata": {},
   "outputs": [],
   "source": [
    "group_distances={distance1(partition[i],partition[j]):(i,j) for i in range(len(partition)) for j in range(i+1,len(partition))}\n",
    "group_distances"
   ]
  },
  {
   "cell_type": "markdown",
   "metadata": {},
   "source": [
    "Considérant le dictionnaire précédent, donnez l'instruction ou la suite d'instructions qui renvoie l'indice des deux groupes les plus proches"
   ]
  },
  {
   "cell_type": "code",
   "execution_count": 9,
   "metadata": {},
   "outputs": [],
   "source": [
    "group_fusion=group_distances[min(group_distances)]"
   ]
  },
  {
   "cell_type": "markdown",
   "metadata": {},
   "source": [
    "Produisez une nouvelle partition en :\n",
    "1. dupliquant la partition courante\n",
    "1. lui retirant les deux groupes les plus proches\n",
    "1. lui ajoutant la fusion des deux groupes "
   ]
  },
  {
   "cell_type": "code",
   "execution_count": null,
   "metadata": {},
   "outputs": [],
   "source": [
    "new_partition=partition.copy()\n",
    "new_group=partition[group_fusion[0]]+partition[group_fusion[1]]\n",
    "new_partition.pop(group_fusion[1])\n",
    "new_partition.pop(group_fusion[0])\n",
    "new_partition.append(new_group)\n",
    "new_partition"
   ]
  },
  {
   "cell_type": "markdown",
   "metadata": {},
   "source": [
    "Itérez sur le traitement précédent en partant de la partition initiale dans laquel chaque groupe contient un unique élément, jusqu'à ce que la partition ne contienne plus qu'un seul groupe. Ajoutez chaque partition produite à une liste `partitions`."
   ]
  },
  {
   "cell_type": "code",
   "execution_count": 16,
   "metadata": {},
   "outputs": [
    {
     "name": "stdout",
     "output_type": "stream",
     "text": [
      "[[[array([4.08427424, 1.99606656]), array([6.16224134, 1.79179322]), array([5.705233  , 1.76230267]), array([5.88233759, 1.71618892]), array([5.82716036, 1.85009003]), array([5.55226453, 0.53554556]), array([4.98833992, 1.62514863]), array([5.18136381, 1.29777123]), array([4.84981003, 0.87633123]), array([4.97715518, 0.48660361]), array([4.41233   , 3.27942898]), array([3.28428589, 3.3166489 ]), array([3.24959219, 3.49905406]), array([ 1.06384985, -8.42317103]), array([ 4.05770048, -7.22808876]), array([ 4.25045616, -8.29676513]), array([ 1.87388721, -7.66540375]), array([ 2.28617829, -7.76441799]), array([ 3.13000878, -6.92468126]), array([ 4.03595715, -9.19278138]), array([ 3.26550393, -7.73211197]), array([ 2.36443297, -8.94570618]), array([ 3.24779959, -9.20102528]), array([ 3.27696048, -8.71367067]), array([ 2.92785552, -8.44165069]), array([ 2.809364  , -8.50354205]), array([-2.91865482, -7.13489079]), array([-1.97410531, -5.49539555]), array([-2.88080233, -5.60628879]), array([-3.36621435, -6.2776619 ]), array([-3.51039787, -6.41137222]), array([-2.95171945, -3.89977029]), array([-4.67153828, -3.10410825]), array([-4.96601621, -6.32409685]), array([-4.99075773, -5.51148469]), array([-4.84125363, -5.73267407]), array([-4.76938325, -4.74598826]), array([-4.47060646, -4.18072292]), array([-3.96289858, -5.08192403]), array([-3.92314666, -4.49629798])]]]\n"
     ]
    }
   ],
   "source": [
    "partitions=[partition]\n",
    "while len(partition)>1:\n",
    "    group_distances={single_link_distance(partition[i],partition[j]):(i,j) for i in range(len(partition)) for j in range(i+1,len(partition))}\n",
    "    group_fusion=group_distances[min(group_distances)]\n",
    "    new_partition=partition.copy()\n",
    "    new_group=partition[group_fusion[0]]+partition[group_fusion[1]]\n",
    "    new_partition.pop(group_fusion[1])\n",
    "    new_partition.pop(group_fusion[0])\n",
    "    new_partition.append(new_group)\n",
    "    partition=new_partition\n",
    "    partitions.append(partition)\n",
    "\n",
    "print(partitions)    \n"
   ]
  },
  {
   "cell_type": "markdown",
   "metadata": {},
   "source": [
    "Visualisez les différentes partitions avec le code suivant."
   ]
  },
  {
   "cell_type": "code",
   "execution_count": null,
   "metadata": {},
   "outputs": [],
   "source": [
    "for p in partitions:\n",
    "    plt.figure()\n",
    "    for g in p:\n",
    "        plt.scatter([x[0] for x in g],[x[1] for x in g])"
   ]
  },
  {
   "cell_type": "markdown",
   "metadata": {},
   "source": [
    "Intégrer la production de la séquence de partitions dans une fonction `CAH` recevant la liste des points."
   ]
  },
  {
   "cell_type": "code",
   "execution_count": null,
   "metadata": {},
   "outputs": [],
   "source": [
    "def integration_liste(df,n_samples,):\n",
    "    X, Y = make_blobs(n_samples = n_samples)\n",
    "    X = pd.DataFrame(X, columns = ['abscisse','ordonnée'])\n",
    "    partition=[[i] for i in X.to_numpy()]\n",
    "    while len(partition)>1:\n",
    "        group_distances={single_link_distance(partition[i],partition[j]):(i,j) for i in range(len(partition)) for j in range(i+1,len(partition))}\n",
    "        group_fusion=group_distances[min(group_distances)]\n",
    "        new_partition=partition.copy()\n",
    "        new_group=partition[group_fusion[0]]+partition[group_fusion[1]]\n",
    "        new_partition.pop(group_fusion[1])\n",
    "        new_partition.pop(group_fusion[0])\n",
    "        new_partition.append(new_group)\n",
    "        partition=new_partition\n",
    "        partitions.append(partition)\n"
   ]
  },
  {
   "cell_type": "markdown",
   "metadata": {},
   "source": [
    "Implantez d'autres distances entre groupes (complete linkage, average linkage,...) et modifiez la fonction CAH de sorte que la méthode utilisée pour le calcul entre groupe puisse lui être passée en paramètre."
   ]
  },
  {
   "cell_type": "code",
   "execution_count": null,
   "metadata": {},
   "outputs": [],
   "source": []
  },
  {
   "cell_type": "markdown",
   "metadata": {},
   "source": [
    "Testez la CAH sur différents jeux de données avec différents paramètres."
   ]
  },
  {
   "cell_type": "code",
   "execution_count": null,
   "metadata": {},
   "outputs": [],
   "source": []
  }
 ],
 "metadata": {
  "kernelspec": {
   "display_name": "Python 3",
   "language": "python",
   "name": "python3"
  },
  "language_info": {
   "codemirror_mode": {
    "name": "ipython",
    "version": 3
   },
   "file_extension": ".py",
   "mimetype": "text/x-python",
   "name": "python",
   "nbconvert_exporter": "python",
   "pygments_lexer": "ipython3",
   "version": "3.11.4"
  }
 },
 "nbformat": 4,
 "nbformat_minor": 4
}
