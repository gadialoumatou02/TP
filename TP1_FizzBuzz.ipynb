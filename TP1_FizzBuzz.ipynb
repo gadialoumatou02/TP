{
 "cells": [
  {
   "cell_type": "markdown",
   "metadata": {},
   "source": [
    "# Fizz-Buzz\n",
    "\n",
    "L'objet de ce TP est de produire la liste des entiers de 1 à N (N est saisi au clavier). Dans cette liste, les entiers multiples de 3 sont remplacés par la chaîne de caractères `\"Fizz\"`, ceux multiples de 5 sont remplacés par `\"Buzz\"`, ceux multiples de 3 et de 5 sont remplacés par `\"FizzBuzz\"`"
   ]
  },
  {
   "cell_type": "code",
   "execution_count": 3,
   "metadata": {},
   "outputs": [
    {
     "name": "stdout",
     "output_type": "stream",
     "text": [
      "1\n",
      "2\n",
      "Fizz\n",
      "4\n",
      "Buzz\n",
      "Fizz\n",
      "7\n",
      "8\n",
      "Fizz\n",
      "Buzz\n",
      "11\n",
      "Fizz\n",
      "13\n",
      "14\n",
      "FizzBuzz\n",
      "16\n",
      "17\n",
      "Fizz\n",
      "19\n",
      "Buzz\n",
      "Fizz\n"
     ]
    }
   ],
   "source": [
    "N=21\n",
    "for i in range (1,N+1):\n",
    "    if i%5==0 and i%3==0:\n",
    "        print(\"FizzBuzz\")\n",
    "    elif i%3==0:\n",
    "        print(\"Fizz\")\n",
    "    elif i%5==0:\n",
    "        print(\"Buzz\")\n",
    "    else:\n",
    "        print(i)"
   ]
  },
  {
   "cell_type": "markdown",
   "metadata": {},
   "source": [
    "Dans une seconde version, les entiers remplacés seront insérés dans des listes `Fizz` et `Buzz` contenant respectivement les multiples de 3 et de 5 que vous afficherez."
   ]
  },
  {
   "cell_type": "code",
   "execution_count": 14,
   "metadata": {},
   "outputs": [
    {
     "name": "stdout",
     "output_type": "stream",
     "text": [
      "[3, 6, 9, 12, 15]\n",
      "[5, 10, 15]\n"
     ]
    }
   ],
   "source": [
    "N,Fizz, Buzz=15, [],[]\n",
    "for i in range (1,N+1):\n",
    "    if i%5==0 and i%3==0:\n",
    "        Fizz.append(i)\n",
    "        Buzz.append(i)\n",
    "    elif i%3==0:\n",
    "        Fizz.append(i)\n",
    "    elif i%5==0:\n",
    "        Buzz.append(i)\n",
    "print(Fizz)\n",
    "print(Buzz)"
   ]
  },
  {
   "cell_type": "markdown",
   "metadata": {},
   "source": [
    "Dans une troisième version, Fizz est associé non seulement aux multiples de 3 mais également aux nombres dont un des chiffres est 3. De même, Buzz est associé aux multiples de 5 et aux nombres qui contiennent le chiffre 5."
   ]
  },
  {
   "cell_type": "code",
   "execution_count": 3,
   "metadata": {},
   "outputs": [
    {
     "name": "stdout",
     "output_type": "stream",
     "text": [
      "[3, 6, 9, 12, 13, 15, 18, 21, 23, 24, 27, 30, 31, 32, 33, 34, 36, 37, 38, 39, 42, 43, 45]\n",
      "[5, 10, 15, 20, 25, 30, 35, 40, 45]\n"
     ]
    }
   ],
   "source": [
    "N,Fizz, Buzz=45, [],[]\n",
    "for i in range (1,N+1):\n",
    "    if i%5==0 and i%3==0:\n",
    "        Fizz.append(i)\n",
    "        Buzz.append(i)\n",
    "    elif i%5==0 or \"5\" in str(i):\n",
    "        Buzz.append(i)\n",
    "    elif i%3==0 or \"3\" in str(i):\n",
    "        Fizz.append(i)\n",
    "print(Fizz)\n",
    "print(Buzz)"
   ]
  }
 ],
 "metadata": {
  "kernelspec": {
   "display_name": "Python 3",
   "language": "python",
   "name": "python3"
  },
  "language_info": {
   "codemirror_mode": {
    "name": "ipython",
    "version": 3
   },
   "file_extension": ".py",
   "mimetype": "text/x-python",
   "name": "python",
   "nbconvert_exporter": "python",
   "pygments_lexer": "ipython3",
   "version": "3.11.4"
  }
 },
 "nbformat": 4,
 "nbformat_minor": 4
}
